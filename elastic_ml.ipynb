{
 "cells": [
  {
   "cell_type": "code",
   "execution_count": 1,
   "metadata": {},
   "outputs": [],
   "source": [
    "import eland as ed\n",
    "from elasticsearch import Elasticsearch\n",
    "\n",
    "client = Elasticsearch(\"http://localhost:9200\", basic_auth = (\"elastic\", \"changeme\"), request_timeout = 120)"
   ]
  },
  {
   "cell_type": "code",
   "execution_count": 2,
   "metadata": {},
   "outputs": [
    {
     "data": {
      "text/plain": [
       "ObjectApiResponse({'name': 'elasticsearch', 'cluster_name': 'docker-cluster', 'cluster_uuid': 'VAqErNMWStWv-whPCdsb0A', 'version': {'number': '8.14.3', 'build_flavor': 'default', 'build_type': 'docker', 'build_hash': 'd55f984299e0e88dee72ebd8255f7ff130859ad0', 'build_date': '2024-07-07T22:04:49.882652950Z', 'build_snapshot': False, 'lucene_version': '9.10.0', 'minimum_wire_compatibility_version': '7.17.0', 'minimum_index_compatibility_version': '7.0.0'}, 'tagline': 'You Know, for Search'})"
      ]
     },
     "execution_count": 2,
     "metadata": {},
     "output_type": "execute_result"
    }
   ],
   "source": [
    "client.info()"
   ]
  },
  {
   "cell_type": "code",
   "execution_count": 3,
   "metadata": {},
   "outputs": [
    {
     "name": "stdout",
     "output_type": "stream",
     "text": [
      ".ds-filebeat-8.14.3-2024.07.27-000001\n",
      ".internal.alerts-default.alerts-default-000001\n",
      ".internal.alerts-ml.anomaly-detection-health.alerts-default-000001\n",
      ".internal.alerts-ml.anomaly-detection.alerts-default-000001\n",
      ".internal.alerts-observability.apm.alerts-default-000001\n",
      ".internal.alerts-observability.logs.alerts-default-000001\n",
      ".internal.alerts-observability.metrics.alerts-default-000001\n",
      ".internal.alerts-observability.slo.alerts-default-000001\n",
      ".internal.alerts-observability.threshold.alerts-default-000001\n",
      ".internal.alerts-observability.uptime.alerts-default-000001\n",
      ".internal.alerts-security.alerts-default-000001\n",
      ".internal.alerts-stack.alerts-default-000001\n",
      ".internal.alerts-transform.health.alerts-default-000001\n",
      ".kibana-observability-ai-assistant-conversations-000001\n",
      ".kibana-observability-ai-assistant-kb-000001\n",
      ".monitoring-beats-7-2024.07.27\n",
      ".monitoring-beats-7-2024.07.28\n"
     ]
    }
   ],
   "source": [
    "# How to list indices on elastic\n",
    "for idx in client.indices.get(index = \"*\"):\n",
    "    print(idx)"
   ]
  },
  {
   "cell_type": "code",
   "execution_count": 4,
   "metadata": {},
   "outputs": [],
   "source": [
    "out = client.search(\n",
    "    index = \".ds-filebeat-8.14.3-2024.07.27-000001\",\n",
    "    body = {\n",
    "        \"size\": 100,\n",
    "        \"query\": {\n",
    "            \"match_all\": {}\n",
    "        }\n",
    "    }\n",
    ")"
   ]
  },
  {
   "cell_type": "code",
   "execution_count": 20,
   "metadata": {},
   "outputs": [
    {
     "data": {
      "text/plain": [
       "{'@timestamp': '2024-07-28T11:49:34.674Z',\n",
       " 'stream': 'stderr',\n",
       " 'message': '{\"log.level\":\"info\",\"@timestamp\":\"2024-07-28T11:49:34.674Z\",\"log.logger\":\"monitoring\",\"log.origin\":{\"function\":\"github.com/elastic/beats/v7/libbeat/monitoring/report/log.(*reporter).logSnapshot\",\"file.name\":\"log/log.go\",\"file.line\":187},\"message\":\"Non-zero metrics in the last 30s\",\"service.name\":\"filebeat\",\"monitoring\":{\"metrics\":{\"beat\":{\"cgroup\":{\"cpuacct\":{\"total\":{\"ns\":63754486}},\"memory\":{\"mem\":{\"usage\":{\"bytes\":137244672}}}},\"cpu\":{\"system\":{\"ticks\":2230,\"time\":{\"ms\":30}},\"total\":{\"ticks\":5250,\"time\":{\"ms\":60},\"value\":5250},\"user\":{\"ticks\":3020,\"time\":{\"ms\":30}}},\"handles\":{\"limit\":{\"hard\":1048576,\"soft\":1048576},\"open\":13},\"info\":{\"ephemeral_id\":\"2e690d49-2e4c-4c6e-8e85-5ec617dcb8a0\",\"uptime\":{\"ms\":2280101},\"version\":\"8.14.3\"},\"memstats\":{\"gc_next\":37253920,\"memory_alloc\":24162528,\"memory_total\":186136624,\"rss\":107761664},\"runtime\":{\"goroutines\":71}},\"filebeat\":{\"events\":{\"active\":0,\"added\":1,\"done\":1},\"harvester\":{\"open_files\":1,\"running\":1}},\"libbeat\":{\"config\":{\"module\":{\"running\":5}},\"output\":{\"events\":{\"acked\":1,\"active\":0,\"batches\":1,\"total\":1},\"read\":{\"bytes\":229,\"errors\":1},\"write\":{\"bytes\":2409,\"latency\":{\"histogram\":{\"count\":79,\"max\":1095,\"mean\":40.9746835443038,\"median\":18,\"min\":6,\"p75\":28,\"p95\":87,\"p99\":1095,\"p999\":1095,\"stddev\":124.93907119462592}}}},\"pipeline\":{\"clients\":5,\"events\":{\"active\":0,\"published\":1,\"total\":1},\"queue\":{\"acked\":1}}},\"registrar\":{\"states\":{\"current\":5,\"update\":1},\"writes\":{\"success\":1,\"total\":1}},\"system\":{\"load\":{\"1\":1.17,\"15\":1.44,\"5\":1.52,\"norm\":{\"1\":0.1463,\"15\":0.18,\"5\":0.19}}}},\"ecs.version\":\"1.6.0\"}}',\n",
       " 'input': {'type': 'container'},\n",
       " 'container': {'image': {'name': 'docker-elk-filebeat'},\n",
       "  'id': '78a87eea95ac8e247b7e6094f58cb3d47c0e092d7e79ad26f1e23b43a716ad99',\n",
       "  'name': 'docker-elk-filebeat-1'},\n",
       " 'docker': {'container': {'labels': {'io_k8s_description': 'Filebeat sends log files to Logstash or directly to Elasticsearch.',\n",
       "    'description': 'Filebeat sends log files to Logstash or directly to Elasticsearch.',\n",
       "    'org_label-schema_build-date': '2024-07-08T22:04:24Z',\n",
       "    'release': '1',\n",
       "    'org_label-schema_url': 'https://www.elastic.co/beats/filebeat',\n",
       "    'org_opencontainers_image_version': '20.04',\n",
       "    'org_opencontainers_image_created': '2024-07-08T22:04:24Z',\n",
       "    'summary': 'filebeat',\n",
       "    'com_docker_compose_service': 'filebeat',\n",
       "    'org_opencontainers_image_vendor': 'Elastic',\n",
       "    'org_label-schema_vcs-ref': '71819961045386b23edc18455f1b54764292816c',\n",
       "    'org_opencontainers_image_ref_name': 'ubuntu',\n",
       "    'org_label-schema_name': 'filebeat',\n",
       "    'vendor': 'Elastic',\n",
       "    'org_label-schema_version': '8.14.3',\n",
       "    'com_docker_compose_image': 'sha256:a1e6630cd4219e16975295faa045140fe98a81c9fbdf77757cf46a2c33a8e229',\n",
       "    'maintainer': 'infra@elastic.co',\n",
       "    'com_docker_compose_project_working_dir': '/home/addison/Documents/Github/Repositories/docker-elk',\n",
       "    'com_docker_compose_project': 'docker-elk',\n",
       "    'org_label-schema_license': 'Elastic License',\n",
       "    'org_label-schema_vendor': 'Elastic',\n",
       "    'org_label-schema_schema-version': '1.0',\n",
       "    'license': 'Elastic License',\n",
       "    'version': '8.14.3',\n",
       "    'com_docker_compose_replace': '0cdeb04f901639419bdf6bcd1cecb7e7070fcd4fb985390631b36a69e6b8aedf',\n",
       "    'com_docker_compose_oneoff': 'False',\n",
       "    'io_k8s_display-name': 'Filebeat image',\n",
       "    'com_docker_compose_project_config_files': '/home/addison/Documents/Github/Repositories/docker-elk/docker-compose.yml,/home/addison/Documents/Github/Repositories/docker-elk/extensions/filebeat/filebeat-compose.yml',\n",
       "    'org_label-schema_vcs-url': 'github.com/elastic/beats/v7',\n",
       "    'com_docker_compose_version': '2.26.1',\n",
       "    'org_opencontainers_image_title': 'Filebeat',\n",
       "    'com_docker_compose_container-number': '1',\n",
       "    'org_opencontainers_image_licenses': 'Elastic License',\n",
       "    'com_docker_compose_config-hash': '4eb9c29450b91416d35648c1ed446159341a3ce7650c23fb068100cff211b63d',\n",
       "    'name': 'filebeat',\n",
       "    'com_docker_compose_depends_on': 'elasticsearch:service_started:false',\n",
       "    'url': 'https://www.elastic.co/beats/filebeat'}}},\n",
       " 'host': {'name': 'filebeat'},\n",
       " 'log': {'file': {'path': '/var/lib/docker/containers/78a87eea95ac8e247b7e6094f58cb3d47c0e092d7e79ad26f1e23b43a716ad99/78a87eea95ac8e247b7e6094f58cb3d47c0e092d7e79ad26f1e23b43a716ad99-json.log'},\n",
       "  'offset': 197156},\n",
       " 'ecs': {'version': '8.0.0'},\n",
       " 'agent': {'name': 'filebeat',\n",
       "  'type': 'filebeat',\n",
       "  'version': '8.14.3',\n",
       "  'ephemeral_id': '2e690d49-2e4c-4c6e-8e85-5ec617dcb8a0',\n",
       "  'id': '986fb7eb-7e22-45c6-9a22-4f7957dd0ffd'}}"
      ]
     },
     "execution_count": 20,
     "metadata": {},
     "output_type": "execute_result"
    }
   ],
   "source": [
    "out[\"hits\"][\"hits\"][0][\"_source\"]"
   ]
  },
  {
   "cell_type": "code",
   "execution_count": 25,
   "metadata": {},
   "outputs": [],
   "source": [
    "df = ed.DataFrame(client, es_index_pattern = \".ds-filebeat-8.14.3-2024.07.27-000001\", columns = ['@timestamp', 'stream', 'message', 'container.name'])"
   ]
  },
  {
   "cell_type": "code",
   "execution_count": 31,
   "metadata": {},
   "outputs": [
    {
     "data": {
      "text/html": [
       "<div>\n",
       "<style scoped>\n",
       "    .dataframe tbody tr th:only-of-type {\n",
       "        vertical-align: middle;\n",
       "    }\n",
       "\n",
       "    .dataframe tbody tr th {\n",
       "        vertical-align: top;\n",
       "    }\n",
       "\n",
       "    .dataframe thead th {\n",
       "        text-align: right;\n",
       "    }\n",
       "</style>\n",
       "<table border=\"1\" class=\"dataframe\">\n",
       "  <thead>\n",
       "    <tr style=\"text-align: right;\">\n",
       "      <th></th>\n",
       "      <th>@timestamp</th>\n",
       "      <th>stream</th>\n",
       "      <th>message</th>\n",
       "      <th>container.name</th>\n",
       "    </tr>\n",
       "  </thead>\n",
       "  <tbody>\n",
       "    <tr>\n",
       "      <th>k-Y4-ZABpqGO4l8hZW5K</th>\n",
       "      <td>2024-07-28 12:02:04.674000+00:00</td>\n",
       "      <td>stderr</td>\n",
       "      <td>{\"log.level\":\"info\",\"@timestamp\":\"2024-07-28T1...</td>\n",
       "      <td>docker-elk-filebeat-1</td>\n",
       "    </tr>\n",
       "    <tr>\n",
       "      <th>lOY4-ZABpqGO4l8hZW5K</th>\n",
       "      <td>2024-07-28 12:02:14.721000+00:00</td>\n",
       "      <td>stderr</td>\n",
       "      <td>{\"log.level\":\"info\",\"@timestamp\":\"2024-07-28T1...</td>\n",
       "      <td>docker-elk-filebeat-1</td>\n",
       "    </tr>\n",
       "    <tr>\n",
       "      <th>j-Y3-ZABpqGO4l8h3G6Q</th>\n",
       "      <td>2024-07-28 12:01:34.673000+00:00</td>\n",
       "      <td>stderr</td>\n",
       "      <td>{\"log.level\":\"info\",\"@timestamp\":\"2024-07-28T1...</td>\n",
       "      <td>docker-elk-filebeat-1</td>\n",
       "    </tr>\n",
       "    <tr>\n",
       "      <th>ieY3-ZABpqGO4l8hem7i</th>\n",
       "      <td>2024-07-28 12:01:04.675000+00:00</td>\n",
       "      <td>stderr</td>\n",
       "      <td>{\"log.level\":\"info\",\"@timestamp\":\"2024-07-28T1...</td>\n",
       "      <td>docker-elk-filebeat-1</td>\n",
       "    </tr>\n",
       "    <tr>\n",
       "      <th>iuY3-ZABpqGO4l8hem7i</th>\n",
       "      <td>2024-07-28 12:01:11.024000+00:00</td>\n",
       "      <td>stderr</td>\n",
       "      <td>{\"log.level\":\"info\",\"@timestamp\":\"2024-07-28T1...</td>\n",
       "      <td>docker-elk-filebeat-1</td>\n",
       "    </tr>\n",
       "  </tbody>\n",
       "</table>\n",
       "</div>\n",
       "<p>5 rows × 4 columns</p>"
      ],
      "text/plain": [
       "                                           @timestamp  stream  \\\n",
       "k-Y4-ZABpqGO4l8hZW5K 2024-07-28 12:02:04.674000+00:00  stderr   \n",
       "lOY4-ZABpqGO4l8hZW5K 2024-07-28 12:02:14.721000+00:00  stderr   \n",
       "j-Y3-ZABpqGO4l8h3G6Q 2024-07-28 12:01:34.673000+00:00  stderr   \n",
       "ieY3-ZABpqGO4l8hem7i 2024-07-28 12:01:04.675000+00:00  stderr   \n",
       "iuY3-ZABpqGO4l8hem7i 2024-07-28 12:01:11.024000+00:00  stderr   \n",
       "\n",
       "                                                                                                                                                                                                                                                                                                                                                                                                                                                                                                                                                                                                                                                                                                                                                                                                                                                                                                                                                                                                                                                                                                                                                                                                                                                                                                                                                                                                                                                                                                                                                                                                                                                                                                              message  \\\n",
       "k-Y4-ZABpqGO4l8hZW5K                                    {\"log.level\":\"info\",\"@timestamp\":\"2024-07-28T12:02:04.674Z\",\"log.logger\":\"monitoring\",\"log.origin\":{\"function\":\"github.com/elastic/beats/v7/libbeat/monitoring/report/log.(*reporter).logSnapshot\",\"file.name\":\"log/log.go\",\"file.line\":187},\"message\":\"Non-zero metrics in the last 30s\",\"service.name\":\"filebeat\",\"monitoring\":{\"metrics\":{\"beat\":{\"cgroup\":{\"cpuacct\":{\"total\":{\"ns\":99902130}},\"memory\":{\"mem\":{\"usage\":{\"bytes\":137265152}}}},\"cpu\":{\"system\":{\"ticks\":2990,\"time\":{\"ms\":30}},\"total\":{\"ticks\":6850,\"time\":{\"ms\":110},\"value\":6850},\"user\":{\"ticks\":3860,\"time\":{\"ms\":80}}},\"handles\":{\"limit\":{\"hard\":1048576,\"soft\":1048576},\"open\":13},\"info\":{\"ephemeral_id\":\"2e690d49-2e4c-4c6e-8e85-5ec617dcb8a0\",\"uptime\":{\"ms\":3030100},\"version\":\"8.14.3\"},\"memstats\":{\"gc_next\":37243376,\"memory_alloc\":19281088,\"memory_total\":227737040,\"rss\":108298240},\"runtime\":{\"goroutines\":71}},\"filebeat\":{\"events\":{\"active\":0,\"added\":1,\"done\":1},\"harvester\":{\"open_files\":1,\"running\":1}},\"libbeat\":{\"config\":{\"module\":{\"running\":5}},\"output\":{\"events\":{\"acked\":1,\"active\":0,\"batches\":1,\"total\":1},\"read\":{\"bytes\":229,\"errors\":1},\"write\":{\"bytes\":2438,\"latency\":{\"histogram\":{\"count\":104,\"max\":1095,\"mean\":36.97115384615385,\"median\":17.5,\"min\":6,\"p75\":27.75,\"p95\":85.5,\"p99\":1055.8500000000022,\"p999\":1095,\"stddev\":109.8185966396375}}}},\"pipeline\":{\"clients\":5,\"events\":{\"active\":0,\"published\":1,\"total\":1},\"queue\":{\"acked\":1}}},\"registrar\":{\"states\":{\"current\":5,\"update\":1},\"writes\":{\"success\":1,\"total\":1}},\"system\":{\"load\":{\"1\":1.6,\"15\":1.7,\"5\":1.74,\"norm\":{\"1\":0.2,\"15\":0.2125,\"5\":0.2175}}}},\"ecs.version\":\"1.6.0\"}}   \n",
       "lOY4-ZABpqGO4l8hZW5K                                                                                                                                                                                                                                                                                                                                                                                                                                                                                                                                                                                                                                                                                                                                                                                                                                                                                                                                                                                                                                                                                                                                                                                                                                                                                                                                    {\"log.level\":\"info\",\"@timestamp\":\"2024-07-28T12:02:14.721Z\",\"log.logger\":\"docker\",\"log.origin\":{\"function\":\"github.com/elastic/elastic-agent-autodiscover/docker.(*watcher).watch.func1\",\"file.name\":\"docker/watcher.go\",\"file.line\":309},\"message\":\"No events received within 10m0s, restarting watch call\",\"service.name\":\"filebeat\",\"ecs.version\":\"1.6.0\"}   \n",
       "j-Y3-ZABpqGO4l8h3G6Q  {\"log.level\":\"info\",\"@timestamp\":\"2024-07-28T12:01:34.672Z\",\"log.logger\":\"monitoring\",\"log.origin\":{\"function\":\"github.com/elastic/beats/v7/libbeat/monitoring/report/log.(*reporter).logSnapshot\",\"file.name\":\"log/log.go\",\"file.line\":187},\"message\":\"Non-zero metrics in the last 30s\",\"service.name\":\"filebeat\",\"monitoring\":{\"metrics\":{\"beat\":{\"cgroup\":{\"cpuacct\":{\"total\":{\"ns\":59156550}},\"memory\":{\"mem\":{\"usage\":{\"bytes\":137388032}}}},\"cpu\":{\"system\":{\"ticks\":2960,\"time\":{\"ms\":40}},\"total\":{\"ticks\":6740,\"time\":{\"ms\":60},\"value\":6740},\"user\":{\"ticks\":3780,\"time\":{\"ms\":20}}},\"handles\":{\"limit\":{\"hard\":1048576,\"soft\":1048576},\"open\":13},\"info\":{\"ephemeral_id\":\"2e690d49-2e4c-4c6e-8e85-5ec617dcb8a0\",\"uptime\":{\"ms\":3000101},\"version\":\"8.14.3\"},\"memstats\":{\"gc_next\":37375080,\"memory_alloc\":24133224,\"memory_total\":225831592,\"rss\":107954176},\"runtime\":{\"goroutines\":71}},\"filebeat\":{\"events\":{\"active\":0,\"added\":3,\"done\":3},\"harvester\":{\"closed\":1,\"open_files\":1,\"running\":1}},\"libbeat\":{\"config\":{\"module\":{\"running\":5}},\"output\":{\"events\":{\"acked\":2,\"active\":0,\"batches\":1,\"total\":2},\"read\":{\"bytes\":232,\"errors\":1},\"write\":{\"bytes\":3031,\"latency\":{\"histogram\":{\"count\":103,\"max\":1095,\"mean\":37.15533980582524,\"median\":17,\"min\":6,\"p75\":28,\"p95\":85.79999999999998,\"p99\":1063.679999999995,\"p999\":1095,\"stddev\":110.33442167976776}}}},\"pipeline\":{\"clients\":5,\"events\":{\"active\":0,\"filtered\":1,\"published\":2,\"total\":3},\"queue\":{\"acked\":2}}},\"registrar\":{\"states\":{\"current\":5,\"update\":3},\"writes\":{\"success\":2,\"total\":2}},\"system\":{\"load\":{\"1\":2.14,\"15\":1.73,\"5\":1.84,\"norm\":{\"1\":0.2675,\"15\":0.2163,\"5\":0.23}}}},\"ecs.version\":\"1.6.0\"}}   \n",
       "ieY3-ZABpqGO4l8hem7i                       {\"log.level\":\"info\",\"@timestamp\":\"2024-07-28T12:01:04.674Z\",\"log.logger\":\"monitoring\",\"log.origin\":{\"function\":\"github.com/elastic/beats/v7/libbeat/monitoring/report/log.(*reporter).logSnapshot\",\"file.name\":\"log/log.go\",\"file.line\":187},\"message\":\"Non-zero metrics in the last 30s\",\"service.name\":\"filebeat\",\"monitoring\":{\"metrics\":{\"beat\":{\"cgroup\":{\"cpuacct\":{\"total\":{\"ns\":51970143}},\"memory\":{\"mem\":{\"usage\":{\"bytes\":137383936}}}},\"cpu\":{\"system\":{\"ticks\":2920,\"time\":{\"ms\":20}},\"total\":{\"ticks\":6680,\"time\":{\"ms\":50},\"value\":6680},\"user\":{\"ticks\":3760,\"time\":{\"ms\":30}}},\"handles\":{\"limit\":{\"hard\":1048576,\"soft\":1048576},\"open\":14},\"info\":{\"ephemeral_id\":\"2e690d49-2e4c-4c6e-8e85-5ec617dcb8a0\",\"uptime\":{\"ms\":2970103},\"version\":\"8.14.3\"},\"memstats\":{\"gc_next\":37375080,\"memory_alloc\":22594496,\"memory_total\":224292864,\"rss\":107954176},\"runtime\":{\"goroutines\":76}},\"filebeat\":{\"events\":{\"active\":0,\"added\":1,\"done\":1},\"harvester\":{\"open_files\":2,\"running\":2}},\"libbeat\":{\"config\":{\"module\":{\"running\":5}},\"output\":{\"events\":{\"acked\":1,\"active\":0,\"batches\":1,\"total\":1},\"read\":{\"bytes\":229,\"errors\":1},\"write\":{\"bytes\":2403,\"latency\":{\"histogram\":{\"count\":102,\"max\":1095,\"mean\":37.36274509803921,\"median\":17.5,\"min\":6,\"p75\":28,\"p95\":86.09999999999997,\"p99\":1071.509999999999,\"p999\":1095,\"stddev\":110.85397471498933}}}},\"pipeline\":{\"clients\":5,\"events\":{\"active\":0,\"published\":1,\"total\":1},\"queue\":{\"acked\":1}}},\"registrar\":{\"states\":{\"current\":5,\"update\":1},\"writes\":{\"success\":1,\"total\":1}},\"system\":{\"load\":{\"1\":1.85,\"15\":1.7,\"5\":1.75,\"norm\":{\"1\":0.2313,\"15\":0.2125,\"5\":0.2188}}}},\"ecs.version\":\"1.6.0\"}}   \n",
       "iuY3-ZABpqGO4l8hem7i                                                                                                                                                                                                                                                                                                                                                                                                                                                                                                                                                                                                                                                                                                              {\"log.level\":\"info\",\"@timestamp\":\"2024-07-28T12:01:11.024Z\",\"log.logger\":\"input.harvester\",\"log.origin\":{\"function\":\"github.com/elastic/beats/v7/filebeat/input/log.(*Harvester).Run\",\"file.name\":\"log/harvester.go\",\"file.line\":342},\"message\":\"File is inactive. Closing because close_inactive of 5m0s reached.\",\"service.name\":\"filebeat\",\"input_id\":\"01eb2863-f72e-4737-8d5d-f78b5d808488\",\"source_file\":\"/var/lib/docker/containers/8a2ec6188af1155b263c0177ea00f2de9c982416f1b341d0f08e9cd6536da329/8a2ec6188af1155b263c0177ea00f2de9c982416f1b341d0f08e9cd6536da329-json.log\",\"state_id\":\"native::3407927-66310\",\"finished\":false,\"os_id\":\"3407927-66310\",\"old_source\":\"/var/lib/docker/containers/8a2ec6188af1155b263c0177ea00f2de9c982416f1b341d0f08e9cd6536da329/8a2ec6188af1155b263c0177ea00f2de9c982416f1b341d0f08e9cd6536da329-json.log\",\"old_finished\":true,\"old_os_id\":\"3407927-66310\",\"harvester_id\":\"29818cbe-b096-42d2-a4b2-e696b5cfd666\",\"ecs.version\":\"1.6.0\"}   \n",
       "\n",
       "                             container.name  \n",
       "k-Y4-ZABpqGO4l8hZW5K  docker-elk-filebeat-1  \n",
       "lOY4-ZABpqGO4l8hZW5K  docker-elk-filebeat-1  \n",
       "j-Y3-ZABpqGO4l8h3G6Q  docker-elk-filebeat-1  \n",
       "ieY3-ZABpqGO4l8hem7i  docker-elk-filebeat-1  \n",
       "iuY3-ZABpqGO4l8hem7i  docker-elk-filebeat-1  \n",
       "\n",
       "[5 rows x 4 columns]"
      ]
     },
     "execution_count": 31,
     "metadata": {},
     "output_type": "execute_result"
    }
   ],
   "source": [
    "df.head()"
   ]
  }
 ],
 "metadata": {
  "kernelspec": {
   "display_name": "elastic",
   "language": "python",
   "name": "python3"
  },
  "language_info": {
   "codemirror_mode": {
    "name": "ipython",
    "version": 3
   },
   "file_extension": ".py",
   "mimetype": "text/x-python",
   "name": "python",
   "nbconvert_exporter": "python",
   "pygments_lexer": "ipython3",
   "version": "3.9.19"
  }
 },
 "nbformat": 4,
 "nbformat_minor": 2
}
