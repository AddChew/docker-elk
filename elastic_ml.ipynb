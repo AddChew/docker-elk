{
 "cells": [
  {
   "cell_type": "code",
   "execution_count": 1,
   "metadata": {},
   "outputs": [],
   "source": [
    "import eland as ed\n",
    "from elasticsearch import Elasticsearch\n",
    "\n",
    "client = Elasticsearch(\"http://localhost:9200\", basic_auth = (\"elastic\", \"changeme\"), request_timeout = 120)"
   ]
  },
  {
   "cell_type": "code",
   "execution_count": 2,
   "metadata": {},
   "outputs": [
    {
     "data": {
      "text/plain": [
       "ObjectApiResponse({'name': 'elasticsearch', 'cluster_name': 'docker-cluster', 'cluster_uuid': 'VAqErNMWStWv-whPCdsb0A', 'version': {'number': '8.14.3', 'build_flavor': 'default', 'build_type': 'docker', 'build_hash': 'd55f984299e0e88dee72ebd8255f7ff130859ad0', 'build_date': '2024-07-07T22:04:49.882652950Z', 'build_snapshot': False, 'lucene_version': '9.10.0', 'minimum_wire_compatibility_version': '7.17.0', 'minimum_index_compatibility_version': '7.0.0'}, 'tagline': 'You Know, for Search'})"
      ]
     },
     "execution_count": 2,
     "metadata": {},
     "output_type": "execute_result"
    }
   ],
   "source": [
    "client.info()"
   ]
  },
  {
   "cell_type": "code",
   "execution_count": 3,
   "metadata": {},
   "outputs": [
    {
     "name": "stdout",
     "output_type": "stream",
     "text": [
      ".ds-filebeat-8.14.3-2024.07.27-000001\n",
      ".internal.alerts-default.alerts-default-000001\n",
      ".internal.alerts-ml.anomaly-detection-health.alerts-default-000001\n",
      ".internal.alerts-ml.anomaly-detection.alerts-default-000001\n",
      ".internal.alerts-observability.apm.alerts-default-000001\n",
      ".internal.alerts-observability.logs.alerts-default-000001\n",
      ".internal.alerts-observability.metrics.alerts-default-000001\n",
      ".internal.alerts-observability.slo.alerts-default-000001\n",
      ".internal.alerts-observability.threshold.alerts-default-000001\n",
      ".internal.alerts-observability.uptime.alerts-default-000001\n",
      ".internal.alerts-security.alerts-default-000001\n",
      ".internal.alerts-stack.alerts-default-000001\n",
      ".internal.alerts-transform.health.alerts-default-000001\n",
      ".kibana-observability-ai-assistant-conversations-000001\n",
      ".kibana-observability-ai-assistant-kb-000001\n",
      ".monitoring-beats-7-2024.07.27\n",
      ".monitoring-beats-7-2024.07.28\n"
     ]
    }
   ],
   "source": [
    "# How to list indices on elastic\n",
    "for idx in client.indices.get(index = \"*\"):\n",
    "    print(idx)"
   ]
  },
  {
   "cell_type": "code",
   "execution_count": 4,
   "metadata": {},
   "outputs": [],
   "source": [
    "# How to search for data from index in elastic\n",
    "out = client.search(\n",
    "    index = \".ds-filebeat-8.14.3-2024.07.27-000001\",\n",
    "    body = {\n",
    "        \"size\": 100, # No of results to return\n",
    "        \"query\": {\n",
    "            \"match_all\": {} # Query condition\n",
    "        }\n",
    "    }\n",
    ")"
   ]
  },
  {
   "cell_type": "code",
   "execution_count": 20,
   "metadata": {},
   "outputs": [
    {
     "data": {
      "text/plain": [
       "{'@timestamp': '2024-07-28T11:49:34.674Z',\n",
       " 'stream': 'stderr',\n",
       " 'message': '{\"log.level\":\"info\",\"@timestamp\":\"2024-07-28T11:49:34.674Z\",\"log.logger\":\"monitoring\",\"log.origin\":{\"function\":\"github.com/elastic/beats/v7/libbeat/monitoring/report/log.(*reporter).logSnapshot\",\"file.name\":\"log/log.go\",\"file.line\":187},\"message\":\"Non-zero metrics in the last 30s\",\"service.name\":\"filebeat\",\"monitoring\":{\"metrics\":{\"beat\":{\"cgroup\":{\"cpuacct\":{\"total\":{\"ns\":63754486}},\"memory\":{\"mem\":{\"usage\":{\"bytes\":137244672}}}},\"cpu\":{\"system\":{\"ticks\":2230,\"time\":{\"ms\":30}},\"total\":{\"ticks\":5250,\"time\":{\"ms\":60},\"value\":5250},\"user\":{\"ticks\":3020,\"time\":{\"ms\":30}}},\"handles\":{\"limit\":{\"hard\":1048576,\"soft\":1048576},\"open\":13},\"info\":{\"ephemeral_id\":\"2e690d49-2e4c-4c6e-8e85-5ec617dcb8a0\",\"uptime\":{\"ms\":2280101},\"version\":\"8.14.3\"},\"memstats\":{\"gc_next\":37253920,\"memory_alloc\":24162528,\"memory_total\":186136624,\"rss\":107761664},\"runtime\":{\"goroutines\":71}},\"filebeat\":{\"events\":{\"active\":0,\"added\":1,\"done\":1},\"harvester\":{\"open_files\":1,\"running\":1}},\"libbeat\":{\"config\":{\"module\":{\"running\":5}},\"output\":{\"events\":{\"acked\":1,\"active\":0,\"batches\":1,\"total\":1},\"read\":{\"bytes\":229,\"errors\":1},\"write\":{\"bytes\":2409,\"latency\":{\"histogram\":{\"count\":79,\"max\":1095,\"mean\":40.9746835443038,\"median\":18,\"min\":6,\"p75\":28,\"p95\":87,\"p99\":1095,\"p999\":1095,\"stddev\":124.93907119462592}}}},\"pipeline\":{\"clients\":5,\"events\":{\"active\":0,\"published\":1,\"total\":1},\"queue\":{\"acked\":1}}},\"registrar\":{\"states\":{\"current\":5,\"update\":1},\"writes\":{\"success\":1,\"total\":1}},\"system\":{\"load\":{\"1\":1.17,\"15\":1.44,\"5\":1.52,\"norm\":{\"1\":0.1463,\"15\":0.18,\"5\":0.19}}}},\"ecs.version\":\"1.6.0\"}}',\n",
       " 'input': {'type': 'container'},\n",
       " 'container': {'image': {'name': 'docker-elk-filebeat'},\n",
       "  'id': '78a87eea95ac8e247b7e6094f58cb3d47c0e092d7e79ad26f1e23b43a716ad99',\n",
       "  'name': 'docker-elk-filebeat-1'},\n",
       " 'docker': {'container': {'labels': {'io_k8s_description': 'Filebeat sends log files to Logstash or directly to Elasticsearch.',\n",
       "    'description': 'Filebeat sends log files to Logstash or directly to Elasticsearch.',\n",
       "    'org_label-schema_build-date': '2024-07-08T22:04:24Z',\n",
       "    'release': '1',\n",
       "    'org_label-schema_url': 'https://www.elastic.co/beats/filebeat',\n",
       "    'org_opencontainers_image_version': '20.04',\n",
       "    'org_opencontainers_image_created': '2024-07-08T22:04:24Z',\n",
       "    'summary': 'filebeat',\n",
       "    'com_docker_compose_service': 'filebeat',\n",
       "    'org_opencontainers_image_vendor': 'Elastic',\n",
       "    'org_label-schema_vcs-ref': '71819961045386b23edc18455f1b54764292816c',\n",
       "    'org_opencontainers_image_ref_name': 'ubuntu',\n",
       "    'org_label-schema_name': 'filebeat',\n",
       "    'vendor': 'Elastic',\n",
       "    'org_label-schema_version': '8.14.3',\n",
       "    'com_docker_compose_image': 'sha256:a1e6630cd4219e16975295faa045140fe98a81c9fbdf77757cf46a2c33a8e229',\n",
       "    'maintainer': 'infra@elastic.co',\n",
       "    'com_docker_compose_project_working_dir': '/home/addison/Documents/Github/Repositories/docker-elk',\n",
       "    'com_docker_compose_project': 'docker-elk',\n",
       "    'org_label-schema_license': 'Elastic License',\n",
       "    'org_label-schema_vendor': 'Elastic',\n",
       "    'org_label-schema_schema-version': '1.0',\n",
       "    'license': 'Elastic License',\n",
       "    'version': '8.14.3',\n",
       "    'com_docker_compose_replace': '0cdeb04f901639419bdf6bcd1cecb7e7070fcd4fb985390631b36a69e6b8aedf',\n",
       "    'com_docker_compose_oneoff': 'False',\n",
       "    'io_k8s_display-name': 'Filebeat image',\n",
       "    'com_docker_compose_project_config_files': '/home/addison/Documents/Github/Repositories/docker-elk/docker-compose.yml,/home/addison/Documents/Github/Repositories/docker-elk/extensions/filebeat/filebeat-compose.yml',\n",
       "    'org_label-schema_vcs-url': 'github.com/elastic/beats/v7',\n",
       "    'com_docker_compose_version': '2.26.1',\n",
       "    'org_opencontainers_image_title': 'Filebeat',\n",
       "    'com_docker_compose_container-number': '1',\n",
       "    'org_opencontainers_image_licenses': 'Elastic License',\n",
       "    'com_docker_compose_config-hash': '4eb9c29450b91416d35648c1ed446159341a3ce7650c23fb068100cff211b63d',\n",
       "    'name': 'filebeat',\n",
       "    'com_docker_compose_depends_on': 'elasticsearch:service_started:false',\n",
       "    'url': 'https://www.elastic.co/beats/filebeat'}}},\n",
       " 'host': {'name': 'filebeat'},\n",
       " 'log': {'file': {'path': '/var/lib/docker/containers/78a87eea95ac8e247b7e6094f58cb3d47c0e092d7e79ad26f1e23b43a716ad99/78a87eea95ac8e247b7e6094f58cb3d47c0e092d7e79ad26f1e23b43a716ad99-json.log'},\n",
       "  'offset': 197156},\n",
       " 'ecs': {'version': '8.0.0'},\n",
       " 'agent': {'name': 'filebeat',\n",
       "  'type': 'filebeat',\n",
       "  'version': '8.14.3',\n",
       "  'ephemeral_id': '2e690d49-2e4c-4c6e-8e85-5ec617dcb8a0',\n",
       "  'id': '986fb7eb-7e22-45c6-9a22-4f7957dd0ffd'}}"
      ]
     },
     "execution_count": 20,
     "metadata": {},
     "output_type": "execute_result"
    }
   ],
   "source": [
    "out[\"hits\"][\"hits\"][0][\"_source\"]"
   ]
  },
  {
   "cell_type": "code",
   "execution_count": 25,
   "metadata": {},
   "outputs": [],
   "source": [
    "# How to use eland API to query back dataframe\n",
    "df = ed.DataFrame(client, es_index_pattern = \".ds-filebeat-8.14.3-2024.07.27-000001\", columns = ['@timestamp', 'stream', 'message', 'container.name'])"
   ]
  },
  {
   "cell_type": "code",
   "execution_count": 35,
   "metadata": {},
   "outputs": [
    {
     "data": {
      "text/html": [
       "<div>\n",
       "<style scoped>\n",
       "    .dataframe tbody tr th:only-of-type {\n",
       "        vertical-align: middle;\n",
       "    }\n",
       "\n",
       "    .dataframe tbody tr th {\n",
       "        vertical-align: top;\n",
       "    }\n",
       "\n",
       "    .dataframe thead th {\n",
       "        text-align: right;\n",
       "    }\n",
       "</style>\n",
       "<table border=\"1\" class=\"dataframe\">\n",
       "  <thead>\n",
       "    <tr style=\"text-align: right;\">\n",
       "      <th></th>\n",
       "      <th>@timestamp</th>\n",
       "      <th>stream</th>\n",
       "      <th>message</th>\n",
       "      <th>container.name</th>\n",
       "    </tr>\n",
       "  </thead>\n",
       "  <tbody>\n",
       "    <tr>\n",
       "      <th>tOY7-ZABpqGO4l8hoW6R</th>\n",
       "      <td>2024-07-28 12:05:34.675000+00:00</td>\n",
       "      <td>stderr</td>\n",
       "      <td>{\"log.level\":\"info\",\"@timestamp\":\"2024-07-28T1...</td>\n",
       "      <td>docker-elk-filebeat-1</td>\n",
       "    </tr>\n",
       "    <tr>\n",
       "      <th>r-Y7-ZABpqGO4l8hGG7T</th>\n",
       "      <td>2024-07-28 12:05:04.674000+00:00</td>\n",
       "      <td>stderr</td>\n",
       "      <td>{\"log.level\":\"info\",\"@timestamp\":\"2024-07-28T1...</td>\n",
       "      <td>docker-elk-filebeat-1</td>\n",
       "    </tr>\n",
       "    <tr>\n",
       "      <th>q-Y6-ZABpqGO4l8ht24q</th>\n",
       "      <td>2024-07-28 12:04:34.675000+00:00</td>\n",
       "      <td>stderr</td>\n",
       "      <td>{\"log.level\":\"info\",\"@timestamp\":\"2024-07-28T1...</td>\n",
       "      <td>docker-elk-filebeat-1</td>\n",
       "    </tr>\n",
       "    <tr>\n",
       "      <th>puY6-ZABpqGO4l8hLm5m</th>\n",
       "      <td>2024-07-28 12:04:04.670000+00:00</td>\n",
       "      <td>stderr</td>\n",
       "      <td>{\"log.level\":\"info\",\"@timestamp\":\"2024-07-28T1...</td>\n",
       "      <td>docker-elk-filebeat-1</td>\n",
       "    </tr>\n",
       "    <tr>\n",
       "      <th>ouY5-ZABpqGO4l8hzG6_</th>\n",
       "      <td>2024-07-28 12:03:34.669000+00:00</td>\n",
       "      <td>stderr</td>\n",
       "      <td>{\"log.level\":\"info\",\"@timestamp\":\"2024-07-28T1...</td>\n",
       "      <td>docker-elk-filebeat-1</td>\n",
       "    </tr>\n",
       "  </tbody>\n",
       "</table>\n",
       "</div>\n",
       "<p>5 rows × 4 columns</p>"
      ],
      "text/plain": [
       "                                           @timestamp  stream  \\\n",
       "tOY7-ZABpqGO4l8hoW6R 2024-07-28 12:05:34.675000+00:00  stderr   \n",
       "r-Y7-ZABpqGO4l8hGG7T 2024-07-28 12:05:04.674000+00:00  stderr   \n",
       "q-Y6-ZABpqGO4l8ht24q 2024-07-28 12:04:34.675000+00:00  stderr   \n",
       "puY6-ZABpqGO4l8hLm5m 2024-07-28 12:04:04.670000+00:00  stderr   \n",
       "ouY5-ZABpqGO4l8hzG6_ 2024-07-28 12:03:34.669000+00:00  stderr   \n",
       "\n",
       "                                                                                                                                                                                                                                                                                                                                                                                                                                                                                                                                                                                                                                                                                                                                                                                                                                                                                                                                                                                                                                                                                                                                                                                                                                                                                                                                                                                                                                                                                                                                                                                                                                                                                          message  \\\n",
       "tOY7-ZABpqGO4l8hoW6R      {\"log.level\":\"info\",\"@timestamp\":\"2024-07-28T12:05:34.675Z\",\"log.logger\":\"monitoring\",\"log.origin\":{\"function\":\"github.com/elastic/beats/v7/libbeat/monitoring/report/log.(*reporter).logSnapshot\",\"file.name\":\"log/log.go\",\"file.line\":187},\"message\":\"Non-zero metrics in the last 30s\",\"service.name\":\"filebeat\",\"monitoring\":{\"metrics\":{\"beat\":{\"cgroup\":{\"cpuacct\":{\"total\":{\"ns\":71578243}},\"memory\":{\"mem\":{\"usage\":{\"bytes\":137437184}}}},\"cpu\":{\"system\":{\"ticks\":3210,\"time\":{\"ms\":30}},\"total\":{\"ticks\":7280,\"time\":{\"ms\":60},\"value\":7280},\"user\":{\"ticks\":4070,\"time\":{\"ms\":30}}},\"handles\":{\"limit\":{\"hard\":1048576,\"soft\":1048576},\"open\":13},\"info\":{\"ephemeral_id\":\"2e690d49-2e4c-4c6e-8e85-5ec617dcb8a0\",\"uptime\":{\"ms\":3240101},\"version\":\"8.14.3\"},\"memstats\":{\"gc_next\":37371200,\"memory_alloc\":24020232,\"memory_total\":239051976,\"rss\":108298240},\"runtime\":{\"goroutines\":71}},\"filebeat\":{\"events\":{\"active\":0,\"added\":1,\"done\":1},\"harvester\":{\"open_files\":1,\"running\":1}},\"libbeat\":{\"config\":{\"module\":{\"running\":5}},\"output\":{\"events\":{\"acked\":1,\"active\":0,\"batches\":1,\"total\":1},\"read\":{\"bytes\":229,\"errors\":1},\"write\":{\"bytes\":2407,\"latency\":{\"histogram\":{\"count\":111,\"max\":1095,\"mean\":35.531531531531535,\"median\":18,\"min\":6,\"p75\":27,\"p95\":83.39999999999995,\"p99\":1001.0399999999964,\"p999\":1095,\"stddev\":106.45176717881326}}}},\"pipeline\":{\"clients\":5,\"events\":{\"active\":0,\"published\":1,\"total\":1},\"queue\":{\"acked\":1}}},\"registrar\":{\"states\":{\"current\":5,\"update\":1},\"writes\":{\"success\":1,\"total\":1}},\"system\":{\"load\":{\"1\":0.85,\"15\":1.6,\"5\":1.46,\"norm\":{\"1\":0.1063,\"15\":0.2,\"5\":0.1825}}}},\"ecs.version\":\"1.6.0\"}}   \n",
       "r-Y7-ZABpqGO4l8hGG7T    {\"log.level\":\"info\",\"@timestamp\":\"2024-07-28T12:05:04.673Z\",\"log.logger\":\"monitoring\",\"log.origin\":{\"function\":\"github.com/elastic/beats/v7/libbeat/monitoring/report/log.(*reporter).logSnapshot\",\"file.name\":\"log/log.go\",\"file.line\":187},\"message\":\"Non-zero metrics in the last 30s\",\"service.name\":\"filebeat\",\"monitoring\":{\"metrics\":{\"beat\":{\"cgroup\":{\"cpuacct\":{\"total\":{\"ns\":65384214}},\"memory\":{\"mem\":{\"usage\":{\"bytes\":137428992}}}},\"cpu\":{\"system\":{\"ticks\":3180,\"time\":{\"ms\":50}},\"total\":{\"ticks\":7220,\"time\":{\"ms\":70},\"value\":7220},\"user\":{\"ticks\":4040,\"time\":{\"ms\":20}}},\"handles\":{\"limit\":{\"hard\":1048576,\"soft\":1048576},\"open\":13},\"info\":{\"ephemeral_id\":\"2e690d49-2e4c-4c6e-8e85-5ec617dcb8a0\",\"uptime\":{\"ms\":3210105},\"version\":\"8.14.3\"},\"memstats\":{\"gc_next\":37371200,\"memory_alloc\":22652160,\"memory_total\":237683904,\"rss\":108298240},\"runtime\":{\"goroutines\":71}},\"filebeat\":{\"events\":{\"active\":0,\"added\":1,\"done\":1},\"harvester\":{\"open_files\":1,\"running\":1}},\"libbeat\":{\"config\":{\"module\":{\"running\":5}},\"output\":{\"events\":{\"acked\":1,\"active\":0,\"batches\":1,\"total\":1},\"read\":{\"bytes\":229,\"errors\":1},\"write\":{\"bytes\":2415,\"latency\":{\"histogram\":{\"count\":110,\"max\":1095,\"mean\":35.68181818181818,\"median\":17.5,\"min\":6,\"p75\":27,\"p95\":83.69999999999993,\"p99\":1008.8700000000005,\"p999\":1095,\"stddev\":106.9228210880234}}}},\"pipeline\":{\"clients\":5,\"events\":{\"active\":0,\"published\":1,\"total\":1},\"queue\":{\"acked\":1}}},\"registrar\":{\"states\":{\"current\":5,\"update\":1},\"writes\":{\"success\":1,\"total\":1}},\"system\":{\"load\":{\"1\":1.16,\"15\":1.64,\"5\":1.58,\"norm\":{\"1\":0.145,\"15\":0.205,\"5\":0.1975}}}},\"ecs.version\":\"1.6.0\"}}   \n",
       "q-Y6-ZABpqGO4l8ht24q                      {\"log.level\":\"info\",\"@timestamp\":\"2024-07-28T12:04:34.674Z\",\"log.logger\":\"monitoring\",\"log.origin\":{\"function\":\"github.com/elastic/beats/v7/libbeat/monitoring/report/log.(*reporter).logSnapshot\",\"file.name\":\"log/log.go\",\"file.line\":187},\"message\":\"Non-zero metrics in the last 30s\",\"service.name\":\"filebeat\",\"monitoring\":{\"metrics\":{\"beat\":{\"cgroup\":{\"cpuacct\":{\"total\":{\"ns\":46640201}},\"memory\":{\"mem\":{\"usage\":{\"bytes\":137293824}}}},\"cpu\":{\"system\":{\"ticks\":3130,\"time\":{\"ms\":30}},\"total\":{\"ticks\":7150,\"time\":{\"ms\":50},\"value\":7150},\"user\":{\"ticks\":4020,\"time\":{\"ms\":20}}},\"handles\":{\"limit\":{\"hard\":1048576,\"soft\":1048576},\"open\":13},\"info\":{\"ephemeral_id\":\"2e690d49-2e4c-4c6e-8e85-5ec617dcb8a0\",\"uptime\":{\"ms\":3180100},\"version\":\"8.14.3\"},\"memstats\":{\"gc_next\":37371200,\"memory_alloc\":20909936,\"memory_total\":235941680,\"rss\":108298240},\"runtime\":{\"goroutines\":71}},\"filebeat\":{\"events\":{\"active\":0,\"added\":1,\"done\":1},\"harvester\":{\"open_files\":1,\"running\":1}},\"libbeat\":{\"config\":{\"module\":{\"running\":5}},\"output\":{\"events\":{\"acked\":1,\"active\":0,\"batches\":1,\"total\":1},\"read\":{\"bytes\":229,\"errors\":1},\"write\":{\"bytes\":2412,\"latency\":{\"histogram\":{\"count\":109,\"max\":1095,\"mean\":35.8348623853211,\"median\":17,\"min\":6,\"p75\":27,\"p95\":84,\"p99\":1016.7000000000045,\"p999\":1095,\"stddev\":107.4001788529312}}}},\"pipeline\":{\"clients\":5,\"events\":{\"active\":0,\"published\":1,\"total\":1},\"queue\":{\"acked\":1}}},\"registrar\":{\"states\":{\"current\":5,\"update\":1},\"writes\":{\"success\":1,\"total\":1}},\"system\":{\"load\":{\"1\":1.63,\"15\":1.68,\"5\":1.69,\"norm\":{\"1\":0.2037,\"15\":0.21,\"5\":0.2113}}}},\"ecs.version\":\"1.6.0\"}}   \n",
       "puY6-ZABpqGO4l8hLm5m  {\"log.level\":\"info\",\"@timestamp\":\"2024-07-28T12:04:04.670Z\",\"log.logger\":\"monitoring\",\"log.origin\":{\"function\":\"github.com/elastic/beats/v7/libbeat/monitoring/report/log.(*reporter).logSnapshot\",\"file.name\":\"log/log.go\",\"file.line\":187},\"message\":\"Non-zero metrics in the last 30s\",\"service.name\":\"filebeat\",\"monitoring\":{\"metrics\":{\"beat\":{\"cgroup\":{\"cpuacct\":{\"total\":{\"ns\":84274222}},\"memory\":{\"mem\":{\"usage\":{\"bytes\":137285632}}}},\"cpu\":{\"system\":{\"ticks\":3100,\"time\":{\"ms\":30}},\"total\":{\"ticks\":7100,\"time\":{\"ms\":80},\"value\":7100},\"user\":{\"ticks\":4000,\"time\":{\"ms\":50}}},\"handles\":{\"limit\":{\"hard\":1048576,\"soft\":1048576},\"open\":13},\"info\":{\"ephemeral_id\":\"2e690d49-2e4c-4c6e-8e85-5ec617dcb8a0\",\"uptime\":{\"ms\":3150100},\"version\":\"8.14.3\"},\"memstats\":{\"gc_next\":37371200,\"memory_alloc\":19262808,\"memory_total\":234294552,\"rss\":108298240},\"runtime\":{\"goroutines\":71}},\"filebeat\":{\"events\":{\"active\":0,\"added\":1,\"done\":1},\"harvester\":{\"open_files\":1,\"running\":1}},\"libbeat\":{\"config\":{\"module\":{\"running\":5}},\"output\":{\"events\":{\"acked\":1,\"active\":0,\"batches\":1,\"total\":1},\"read\":{\"bytes\":229,\"errors\":1},\"write\":{\"bytes\":2431,\"latency\":{\"histogram\":{\"count\":108,\"max\":1095,\"mean\":36.083333333333336,\"median\":17.5,\"min\":6,\"p75\":27,\"p95\":84.29999999999998,\"p99\":1024.5299999999975,\"p999\":1095,\"stddev\":107.86506702906723}}}},\"pipeline\":{\"clients\":5,\"events\":{\"active\":0,\"published\":1,\"total\":1},\"queue\":{\"acked\":1}}},\"registrar\":{\"states\":{\"current\":5,\"update\":1},\"writes\":{\"success\":1,\"total\":1}},\"system\":{\"load\":{\"1\":1.57,\"15\":1.68,\"5\":1.69,\"norm\":{\"1\":0.1963,\"15\":0.21,\"5\":0.2113}}}},\"ecs.version\":\"1.6.0\"}}   \n",
       "ouY5-ZABpqGO4l8hzG6_   {\"log.level\":\"info\",\"@timestamp\":\"2024-07-28T12:03:34.669Z\",\"log.logger\":\"monitoring\",\"log.origin\":{\"function\":\"github.com/elastic/beats/v7/libbeat/monitoring/report/log.(*reporter).logSnapshot\",\"file.name\":\"log/log.go\",\"file.line\":187},\"message\":\"Non-zero metrics in the last 30s\",\"service.name\":\"filebeat\",\"monitoring\":{\"metrics\":{\"beat\":{\"cgroup\":{\"cpuacct\":{\"total\":{\"ns\":50178390}},\"memory\":{\"mem\":{\"usage\":{\"bytes\":137285632}}}},\"cpu\":{\"system\":{\"ticks\":3070,\"time\":{\"ms\":20}},\"total\":{\"ticks\":7020,\"time\":{\"ms\":40},\"value\":7020},\"user\":{\"ticks\":3950,\"time\":{\"ms\":20}}},\"handles\":{\"limit\":{\"hard\":1048576,\"soft\":1048576},\"open\":13},\"info\":{\"ephemeral_id\":\"2e690d49-2e4c-4c6e-8e85-5ec617dcb8a0\",\"uptime\":{\"ms\":3120099},\"version\":\"8.14.3\"},\"memstats\":{\"gc_next\":37243376,\"memory_alloc\":24173664,\"memory_total\":232629616,\"rss\":108298240},\"runtime\":{\"goroutines\":71}},\"filebeat\":{\"events\":{\"active\":0,\"added\":1,\"done\":1},\"harvester\":{\"open_files\":1,\"running\":1}},\"libbeat\":{\"config\":{\"module\":{\"running\":5}},\"output\":{\"events\":{\"acked\":1,\"active\":0,\"batches\":1,\"total\":1},\"read\":{\"bytes\":229,\"errors\":1},\"write\":{\"bytes\":2417,\"latency\":{\"histogram\":{\"count\":107,\"max\":1095,\"mean\":36.25233644859813,\"median\":17,\"min\":6,\"p75\":27,\"p95\":84.59999999999997,\"p99\":1032.3600000000015,\"p999\":1095,\"stddev\":108.35370372702286}}}},\"pipeline\":{\"clients\":5,\"events\":{\"active\":0,\"published\":1,\"total\":1},\"queue\":{\"acked\":1}}},\"registrar\":{\"states\":{\"current\":5,\"update\":1},\"writes\":{\"success\":1,\"total\":1}},\"system\":{\"load\":{\"1\":2.06,\"15\":1.71,\"5\":1.79,\"norm\":{\"1\":0.2575,\"15\":0.2138,\"5\":0.2238}}}},\"ecs.version\":\"1.6.0\"}}   \n",
       "\n",
       "                             container.name  \n",
       "tOY7-ZABpqGO4l8hoW6R  docker-elk-filebeat-1  \n",
       "r-Y7-ZABpqGO4l8hGG7T  docker-elk-filebeat-1  \n",
       "q-Y6-ZABpqGO4l8ht24q  docker-elk-filebeat-1  \n",
       "puY6-ZABpqGO4l8hLm5m  docker-elk-filebeat-1  \n",
       "ouY5-ZABpqGO4l8hzG6_  docker-elk-filebeat-1  \n",
       "\n",
       "[5 rows x 4 columns]"
      ]
     },
     "execution_count": 35,
     "metadata": {},
     "output_type": "execute_result"
    }
   ],
   "source": [
    "df.head()"
   ]
  },
  {
   "cell_type": "code",
   "execution_count": 36,
   "metadata": {},
   "outputs": [
    {
     "name": "stdout",
     "output_type": "stream",
     "text": [
      "<class 'eland.dataframe.DataFrame'>\n",
      "Index: 3796 entries, veY8-ZABpqGO4l8hi27- to u9sx9ZAB_ETXQiYUwHt8\n",
      "Data columns (total 4 columns):\n",
      " #   Column          Non-Null Count  Dtype         \n",
      "---  ------          --------------  -----         \n",
      " 0   @timestamp      3796 non-null   datetime64[ns]\n",
      " 1   stream          3796 non-null   object        \n",
      " 2   message         3594 non-null   object        \n",
      " 3   container.name  3796 non-null   object        \n",
      "dtypes: datetime64[ns](1), object(3)\n",
      "memory usage: 64.000 bytes\n",
      "Elasticsearch storage usage: 3.709 MB\n"
     ]
    }
   ],
   "source": [
    "df.info()"
   ]
  },
  {
   "cell_type": "code",
   "execution_count": 38,
   "metadata": {},
   "outputs": [
    {
     "data": {
      "text/html": [
       "<div>\n",
       "<style scoped>\n",
       "    .dataframe tbody tr th:only-of-type {\n",
       "        vertical-align: middle;\n",
       "    }\n",
       "\n",
       "    .dataframe tbody tr th {\n",
       "        vertical-align: top;\n",
       "    }\n",
       "\n",
       "    .dataframe thead th {\n",
       "        text-align: right;\n",
       "    }\n",
       "</style>\n",
       "<table border=\"1\" class=\"dataframe\">\n",
       "  <thead>\n",
       "    <tr style=\"text-align: right;\">\n",
       "      <th></th>\n",
       "      <th>@timestamp</th>\n",
       "      <th>stream</th>\n",
       "      <th>message</th>\n",
       "      <th>container.name</th>\n",
       "    </tr>\n",
       "  </thead>\n",
       "  <tbody>\n",
       "    <tr>\n",
       "      <th>WuYy-ZABpqGO4l8h024F</th>\n",
       "      <td>2024-07-28 11:56:05.917000+00:00</td>\n",
       "      <td>stdout</td>\n",
       "      <td>[2024-07-28T11:56:05.917+00:00][INFO ][plugins...</td>\n",
       "      <td>docker-elk-kibana-1</td>\n",
       "    </tr>\n",
       "    <tr>\n",
       "      <th>zuYl-ZABpqGO4l8hF20I</th>\n",
       "      <td>2024-07-28 11:41:05.820000+00:00</td>\n",
       "      <td>stdout</td>\n",
       "      <td>[2024-07-28T11:41:05.820+00:00][INFO ][plugins...</td>\n",
       "      <td>docker-elk-kibana-1</td>\n",
       "    </tr>\n",
       "    <tr>\n",
       "      <th>wuYL-ZABpqGO4l8hQWw5</th>\n",
       "      <td>2024-07-28 11:12:44.808000+00:00</td>\n",
       "      <td>stdout</td>\n",
       "      <td>creating index, cause [auto(bulk api)], templa...</td>\n",
       "      <td>docker-elk-elasticsearch-1</td>\n",
       "    </tr>\n",
       "    <tr>\n",
       "      <th>P-YX-ZABpqGO4l8hW20L</th>\n",
       "      <td>2024-07-28 11:26:05.798000+00:00</td>\n",
       "      <td>stdout</td>\n",
       "      <td>[2024-07-28T11:26:05.797+00:00][INFO ][plugins...</td>\n",
       "      <td>docker-elk-kibana-1</td>\n",
       "    </tr>\n",
       "    <tr>\n",
       "      <th>cOYL-ZABpqGO4l8hB2ua</th>\n",
       "      <td>2024-07-28 11:12:03.513000+00:00</td>\n",
       "      <td>stdout</td>\n",
       "      <td>[2024-07-28T11:12:03,512][INFO ][logstash.java...</td>\n",
       "      <td>docker-elk-logstash-1</td>\n",
       "    </tr>\n",
       "    <tr>\n",
       "      <th>...</th>\n",
       "      <td>...</td>\n",
       "      <td>...</td>\n",
       "      <td>...</td>\n",
       "      <td>...</td>\n",
       "    </tr>\n",
       "    <tr>\n",
       "      <th>2Nsc9ZAB_ETXQiYUL3o0</th>\n",
       "      <td>2024-07-27 16:52:46.333000+00:00</td>\n",
       "      <td>stdout</td>\n",
       "      <td>[2024-07-27T16:52:46.332+00:00][INFO ][plugins...</td>\n",
       "      <td>docker-elk-kibana-1</td>\n",
       "    </tr>\n",
       "    <tr>\n",
       "      <th>8dsF9ZAB_ETXQiYUS3nI</th>\n",
       "      <td>2024-07-27 16:27:50.475000+00:00</td>\n",
       "      <td>stdout</td>\n",
       "      <td>finished model import after [21] seconds</td>\n",
       "      <td>d7a8751c8646_docker-elk-elasticsearch-1</td>\n",
       "    </tr>\n",
       "    <tr>\n",
       "      <th>QNsm9ZAB_ETXQiYUB3sH</th>\n",
       "      <td>2024-07-27 17:03:27.070000+00:00</td>\n",
       "      <td>stdout</td>\n",
       "      <td>Starting model deployment of model [.elser_mod...</td>\n",
       "      <td>d7a8751c8646_docker-elk-elasticsearch-1</td>\n",
       "    </tr>\n",
       "    <tr>\n",
       "      <th>TdsO9ZAB_ETXQiYUc3oj</th>\n",
       "      <td>2024-07-27 16:37:46.263000+00:00</td>\n",
       "      <td>stdout</td>\n",
       "      <td>[2024-07-27T16:37:46.262+00:00][INFO ][plugins...</td>\n",
       "      <td>docker-elk-kibana-1</td>\n",
       "    </tr>\n",
       "    <tr>\n",
       "      <th>aNsp9ZAB_ETXQiYU63s0</th>\n",
       "      <td>2024-07-27 17:07:46.396000+00:00</td>\n",
       "      <td>stdout</td>\n",
       "      <td>[2024-07-27T17:07:46.395+00:00][INFO ][plugins...</td>\n",
       "      <td>docker-elk-kibana-1</td>\n",
       "    </tr>\n",
       "  </tbody>\n",
       "</table>\n",
       "</div>\n",
       "<p>1757 rows × 4 columns</p>"
      ],
      "text/plain": [
       "                                           @timestamp  stream  \\\n",
       "WuYy-ZABpqGO4l8h024F 2024-07-28 11:56:05.917000+00:00  stdout   \n",
       "zuYl-ZABpqGO4l8hF20I 2024-07-28 11:41:05.820000+00:00  stdout   \n",
       "wuYL-ZABpqGO4l8hQWw5 2024-07-28 11:12:44.808000+00:00  stdout   \n",
       "P-YX-ZABpqGO4l8hW20L 2024-07-28 11:26:05.798000+00:00  stdout   \n",
       "cOYL-ZABpqGO4l8hB2ua 2024-07-28 11:12:03.513000+00:00  stdout   \n",
       "...                                               ...     ...   \n",
       "2Nsc9ZAB_ETXQiYUL3o0 2024-07-27 16:52:46.333000+00:00  stdout   \n",
       "8dsF9ZAB_ETXQiYUS3nI 2024-07-27 16:27:50.475000+00:00  stdout   \n",
       "QNsm9ZAB_ETXQiYUB3sH 2024-07-27 17:03:27.070000+00:00  stdout   \n",
       "TdsO9ZAB_ETXQiYUc3oj 2024-07-27 16:37:46.263000+00:00  stdout   \n",
       "aNsp9ZAB_ETXQiYU63s0 2024-07-27 17:07:46.396000+00:00  stdout   \n",
       "\n",
       "                                                                                                                                                                                                                                                                                                                                                                                                                                              message  \\\n",
       "WuYy-ZABpqGO4l8h024F  [2024-07-28T11:56:05.917+00:00][INFO ][plugins.fleet] Fleet Usage: {\"agents_enabled\":true,\"agents\":{\"total_enrolled\":0,\"healthy\":0,\"unhealthy\":0,\"offline\":0,\"inactive\":0,\"unenrolled\":0,\"total_all_statuses\":0,\"updating\":0},\"fleet_server\":{\"total_enrolled\":0,\"healthy\":0,\"unhealthy\":0,\"offline\":0,\"updating\":0,\"inactive\":0,\"unenrolled\":0,\"total_all_statuses\":0,\"num_host_urls\":1},\"license_issued_to\":\"docker-cluster\"}   \n",
       "zuYl-ZABpqGO4l8hF20I  [2024-07-28T11:41:05.820+00:00][INFO ][plugins.fleet] Fleet Usage: {\"agents_enabled\":true,\"agents\":{\"total_enrolled\":0,\"healthy\":0,\"unhealthy\":0,\"offline\":0,\"inactive\":0,\"unenrolled\":0,\"total_all_statuses\":0,\"updating\":0},\"fleet_server\":{\"total_enrolled\":0,\"healthy\":0,\"unhealthy\":0,\"offline\":0,\"updating\":0,\"inactive\":0,\"unenrolled\":0,\"total_all_statuses\":0,\"num_host_urls\":1},\"license_issued_to\":\"docker-cluster\"}   \n",
       "wuYL-ZABpqGO4l8hQWw5                                                                                                                                                                                                                                                                                                                                            creating index, cause [auto(bulk api)], templates [.monitoring-beats], shards [1]/[0]   \n",
       "P-YX-ZABpqGO4l8hW20L  [2024-07-28T11:26:05.797+00:00][INFO ][plugins.fleet] Fleet Usage: {\"agents_enabled\":true,\"agents\":{\"total_enrolled\":0,\"healthy\":0,\"unhealthy\":0,\"offline\":0,\"inactive\":0,\"unenrolled\":0,\"total_all_statuses\":0,\"updating\":0},\"fleet_server\":{\"total_enrolled\":0,\"healthy\":0,\"unhealthy\":0,\"offline\":0,\"updating\":0,\"inactive\":0,\"unenrolled\":0,\"total_all_statuses\":0,\"num_host_urls\":1},\"license_issued_to\":\"docker-cluster\"}   \n",
       "cOYL-ZABpqGO4l8hB2ua                                                                                                                                                                                                                                                                                                  [2024-07-28T11:12:03,512][INFO ][logstash.javapipeline    ][main] Pipeline Java execution initialization time {\"seconds\"=>1.26}   \n",
       "...                                                                                                                                                                                                                                                                                                                                                                                                                                               ...   \n",
       "2Nsc9ZAB_ETXQiYUL3o0  [2024-07-27T16:52:46.332+00:00][INFO ][plugins.fleet] Fleet Usage: {\"agents_enabled\":true,\"agents\":{\"total_enrolled\":0,\"healthy\":0,\"unhealthy\":0,\"offline\":0,\"inactive\":0,\"unenrolled\":0,\"total_all_statuses\":0,\"updating\":0},\"fleet_server\":{\"total_enrolled\":0,\"healthy\":0,\"unhealthy\":0,\"offline\":0,\"updating\":0,\"inactive\":0,\"unenrolled\":0,\"total_all_statuses\":0,\"num_host_urls\":1},\"license_issued_to\":\"docker-cluster\"}   \n",
       "8dsF9ZAB_ETXQiYUS3nI                                                                                                                                                                                                                                                                                                                                                                                         finished model import after [21] seconds   \n",
       "QNsm9ZAB_ETXQiYUB3sH                                                                                                                                                                                                                                                                                                                                                                 Starting model deployment of model [.elser_model_2_linux-x86_64]   \n",
       "TdsO9ZAB_ETXQiYUc3oj  [2024-07-27T16:37:46.262+00:00][INFO ][plugins.fleet] Fleet Usage: {\"agents_enabled\":true,\"agents\":{\"total_enrolled\":0,\"healthy\":0,\"unhealthy\":0,\"offline\":0,\"inactive\":0,\"unenrolled\":0,\"total_all_statuses\":0,\"updating\":0},\"fleet_server\":{\"total_enrolled\":0,\"healthy\":0,\"unhealthy\":0,\"offline\":0,\"updating\":0,\"inactive\":0,\"unenrolled\":0,\"total_all_statuses\":0,\"num_host_urls\":1},\"license_issued_to\":\"docker-cluster\"}   \n",
       "aNsp9ZAB_ETXQiYU63s0  [2024-07-27T17:07:46.395+00:00][INFO ][plugins.fleet] Fleet Usage: {\"agents_enabled\":true,\"agents\":{\"total_enrolled\":0,\"healthy\":0,\"unhealthy\":0,\"offline\":0,\"inactive\":0,\"unenrolled\":0,\"total_all_statuses\":0,\"updating\":0},\"fleet_server\":{\"total_enrolled\":0,\"healthy\":0,\"unhealthy\":0,\"offline\":0,\"updating\":0,\"inactive\":0,\"unenrolled\":0,\"total_all_statuses\":0,\"num_host_urls\":1},\"license_issued_to\":\"docker-cluster\"}   \n",
       "\n",
       "                                               container.name  \n",
       "WuYy-ZABpqGO4l8h024F                      docker-elk-kibana-1  \n",
       "zuYl-ZABpqGO4l8hF20I                      docker-elk-kibana-1  \n",
       "wuYL-ZABpqGO4l8hQWw5               docker-elk-elasticsearch-1  \n",
       "P-YX-ZABpqGO4l8hW20L                      docker-elk-kibana-1  \n",
       "cOYL-ZABpqGO4l8hB2ua                    docker-elk-logstash-1  \n",
       "...                                                       ...  \n",
       "2Nsc9ZAB_ETXQiYUL3o0                      docker-elk-kibana-1  \n",
       "8dsF9ZAB_ETXQiYUS3nI  d7a8751c8646_docker-elk-elasticsearch-1  \n",
       "QNsm9ZAB_ETXQiYUB3sH  d7a8751c8646_docker-elk-elasticsearch-1  \n",
       "TdsO9ZAB_ETXQiYUc3oj                      docker-elk-kibana-1  \n",
       "aNsp9ZAB_ETXQiYU63s0                      docker-elk-kibana-1  \n",
       "\n",
       "[1757 rows x 4 columns]"
      ]
     },
     "execution_count": 38,
     "metadata": {},
     "output_type": "execute_result"
    }
   ],
   "source": [
    "df[df.stream != 'stderr']"
   ]
  },
  {
   "cell_type": "code",
   "execution_count": 39,
   "metadata": {},
   "outputs": [
    {
     "data": {
      "text/html": [
       "<div>\n",
       "<style scoped>\n",
       "    .dataframe tbody tr th:only-of-type {\n",
       "        vertical-align: middle;\n",
       "    }\n",
       "\n",
       "    .dataframe tbody tr th {\n",
       "        vertical-align: top;\n",
       "    }\n",
       "\n",
       "    .dataframe thead th {\n",
       "        text-align: right;\n",
       "    }\n",
       "</style>\n",
       "<table border=\"1\" class=\"dataframe\">\n",
       "  <thead>\n",
       "    <tr style=\"text-align: right;\">\n",
       "      <th></th>\n",
       "      <th>@timestamp</th>\n",
       "      <th>stream</th>\n",
       "      <th>message</th>\n",
       "      <th>container.name</th>\n",
       "    </tr>\n",
       "  </thead>\n",
       "  <tbody>\n",
       "    <tr>\n",
       "      <th>z-Y--ZABpqGO4l8hYG7Q</th>\n",
       "      <td>2024-07-28 12:08:34.674000+00:00</td>\n",
       "      <td>stderr</td>\n",
       "      <td>{\"log.level\":\"info\",\"@timestamp\":\"2024-07-28T1...</td>\n",
       "      <td>docker-elk-filebeat-1</td>\n",
       "    </tr>\n",
       "    <tr>\n",
       "      <th>yuY9-ZABpqGO4l8h2G4U</th>\n",
       "      <td>2024-07-28 12:08:04.672000+00:00</td>\n",
       "      <td>stderr</td>\n",
       "      <td>{\"log.level\":\"info\",\"@timestamp\":\"2024-07-28T1...</td>\n",
       "      <td>docker-elk-filebeat-1</td>\n",
       "    </tr>\n",
       "    <tr>\n",
       "      <th>xuY9-ZABpqGO4l8hdm5q</th>\n",
       "      <td>2024-07-28 12:07:34.677000+00:00</td>\n",
       "      <td>stderr</td>\n",
       "      <td>{\"log.level\":\"info\",\"@timestamp\":\"2024-07-28T1...</td>\n",
       "      <td>docker-elk-filebeat-1</td>\n",
       "    </tr>\n",
       "    <tr>\n",
       "      <th>weY8-ZABpqGO4l8h7W6t</th>\n",
       "      <td>2024-07-28 12:07:04.674000+00:00</td>\n",
       "      <td>stderr</td>\n",
       "      <td>{\"log.level\":\"info\",\"@timestamp\":\"2024-07-28T1...</td>\n",
       "      <td>docker-elk-filebeat-1</td>\n",
       "    </tr>\n",
       "    <tr>\n",
       "      <th>veY8-ZABpqGO4l8hi27-</th>\n",
       "      <td>2024-07-28 12:06:34.675000+00:00</td>\n",
       "      <td>stderr</td>\n",
       "      <td>{\"log.level\":\"info\",\"@timestamp\":\"2024-07-28T1...</td>\n",
       "      <td>docker-elk-filebeat-1</td>\n",
       "    </tr>\n",
       "    <tr>\n",
       "      <th>...</th>\n",
       "      <td>...</td>\n",
       "      <td>...</td>\n",
       "      <td>...</td>\n",
       "      <td>...</td>\n",
       "    </tr>\n",
       "    <tr>\n",
       "      <th>qdsv9ZAB_ETXQiYU63up</th>\n",
       "      <td>2024-07-27 17:14:21.776000+00:00</td>\n",
       "      <td>stderr</td>\n",
       "      <td>{\"log.level\":\"info\",\"@timestamp\":\"2024-07-27T1...</td>\n",
       "      <td>docker-elk-filebeat-1</td>\n",
       "    </tr>\n",
       "    <tr>\n",
       "      <th>rdsw9ZAB_ETXQiYUTXtX</th>\n",
       "      <td>2024-07-27 17:14:51.771000+00:00</td>\n",
       "      <td>stderr</td>\n",
       "      <td>{\"log.level\":\"info\",\"@timestamp\":\"2024-07-27T1...</td>\n",
       "      <td>docker-elk-filebeat-1</td>\n",
       "    </tr>\n",
       "    <tr>\n",
       "      <th>stsw9ZAB_ETXQiYU1nsV</th>\n",
       "      <td>2024-07-27 17:15:21.771000+00:00</td>\n",
       "      <td>stderr</td>\n",
       "      <td>{\"log.level\":\"info\",\"@timestamp\":\"2024-07-27T1...</td>\n",
       "      <td>docker-elk-filebeat-1</td>\n",
       "    </tr>\n",
       "    <tr>\n",
       "      <th>ttsx9ZAB_ETXQiYUN3vB</th>\n",
       "      <td>2024-07-27 17:15:51.773000+00:00</td>\n",
       "      <td>stderr</td>\n",
       "      <td>{\"log.level\":\"info\",\"@timestamp\":\"2024-07-27T1...</td>\n",
       "      <td>docker-elk-filebeat-1</td>\n",
       "    </tr>\n",
       "    <tr>\n",
       "      <th>u9sx9ZAB_ETXQiYUwHt8</th>\n",
       "      <td>2024-07-27 17:16:21.769000+00:00</td>\n",
       "      <td>stderr</td>\n",
       "      <td>{\"log.level\":\"info\",\"@timestamp\":\"2024-07-27T1...</td>\n",
       "      <td>docker-elk-filebeat-1</td>\n",
       "    </tr>\n",
       "  </tbody>\n",
       "</table>\n",
       "</div>\n",
       "<p>2043 rows × 4 columns</p>"
      ],
      "text/plain": [
       "                                           @timestamp  stream  \\\n",
       "z-Y--ZABpqGO4l8hYG7Q 2024-07-28 12:08:34.674000+00:00  stderr   \n",
       "yuY9-ZABpqGO4l8h2G4U 2024-07-28 12:08:04.672000+00:00  stderr   \n",
       "xuY9-ZABpqGO4l8hdm5q 2024-07-28 12:07:34.677000+00:00  stderr   \n",
       "weY8-ZABpqGO4l8h7W6t 2024-07-28 12:07:04.674000+00:00  stderr   \n",
       "veY8-ZABpqGO4l8hi27- 2024-07-28 12:06:34.675000+00:00  stderr   \n",
       "...                                               ...     ...   \n",
       "qdsv9ZAB_ETXQiYU63up 2024-07-27 17:14:21.776000+00:00  stderr   \n",
       "rdsw9ZAB_ETXQiYUTXtX 2024-07-27 17:14:51.771000+00:00  stderr   \n",
       "stsw9ZAB_ETXQiYU1nsV 2024-07-27 17:15:21.771000+00:00  stderr   \n",
       "ttsx9ZAB_ETXQiYUN3vB 2024-07-27 17:15:51.773000+00:00  stderr   \n",
       "u9sx9ZAB_ETXQiYUwHt8 2024-07-27 17:16:21.769000+00:00  stderr   \n",
       "\n",
       "                                                                                                                                                                                                                                                                                                                                                                                                                                                                                                                                                                                                                                                                                                                                                                                                                                                                                                                                                                                                                                                                                                                                                                                                                                                                                                                                                                                                                                                                                                                                                                                                                                                                                          message  \\\n",
       "z-Y--ZABpqGO4l8hYG7Q  {\"log.level\":\"info\",\"@timestamp\":\"2024-07-28T12:08:34.674Z\",\"log.logger\":\"monitoring\",\"log.origin\":{\"function\":\"github.com/elastic/beats/v7/libbeat/monitoring/report/log.(*reporter).logSnapshot\",\"file.name\":\"log/log.go\",\"file.line\":187},\"message\":\"Non-zero metrics in the last 30s\",\"service.name\":\"filebeat\",\"monitoring\":{\"metrics\":{\"beat\":{\"cgroup\":{\"cpuacct\":{\"total\":{\"ns\":62220766}},\"memory\":{\"mem\":{\"usage\":{\"bytes\":137338880}}}},\"cpu\":{\"system\":{\"ticks\":3370,\"time\":{\"ms\":20}},\"total\":{\"ticks\":7710,\"time\":{\"ms\":50},\"value\":7710},\"user\":{\"ticks\":4340,\"time\":{\"ms\":30}}},\"handles\":{\"limit\":{\"hard\":1048576,\"soft\":1048576},\"open\":13},\"info\":{\"ephemeral_id\":\"2e690d49-2e4c-4c6e-8e85-5ec617dcb8a0\",\"uptime\":{\"ms\":3420102},\"version\":\"8.14.3\"},\"memstats\":{\"gc_next\":37366720,\"memory_alloc\":20785416,\"memory_total\":249014704,\"rss\":108298240},\"runtime\":{\"goroutines\":71}},\"filebeat\":{\"events\":{\"active\":0,\"added\":1,\"done\":1},\"harvester\":{\"open_files\":1,\"running\":1}},\"libbeat\":{\"config\":{\"module\":{\"running\":5}},\"output\":{\"events\":{\"acked\":1,\"active\":0,\"batches\":1,\"total\":1},\"read\":{\"bytes\":229,\"errors\":1},\"write\":{\"bytes\":2428,\"latency\":{\"histogram\":{\"count\":117,\"max\":1095,\"mean\":34.52991452991453,\"median\":18,\"min\":6,\"p75\":26.5,\"p95\":81.59999999999997,\"p99\":954.0599999999947,\"p999\":1095,\"stddev\":103.78623433988845}}}},\"pipeline\":{\"clients\":5,\"events\":{\"active\":0,\"published\":1,\"total\":1},\"queue\":{\"acked\":1}}},\"registrar\":{\"states\":{\"current\":5,\"update\":1},\"writes\":{\"success\":1,\"total\":1}},\"system\":{\"load\":{\"1\":1.57,\"15\":1.59,\"5\":1.49,\"norm\":{\"1\":0.1963,\"15\":0.1988,\"5\":0.1863}}}},\"ecs.version\":\"1.6.0\"}}   \n",
       "yuY9-ZABpqGO4l8h2G4U  {\"log.level\":\"info\",\"@timestamp\":\"2024-07-28T12:08:04.672Z\",\"log.logger\":\"monitoring\",\"log.origin\":{\"function\":\"github.com/elastic/beats/v7/libbeat/monitoring/report/log.(*reporter).logSnapshot\",\"file.name\":\"log/log.go\",\"file.line\":187},\"message\":\"Non-zero metrics in the last 30s\",\"service.name\":\"filebeat\",\"monitoring\":{\"metrics\":{\"beat\":{\"cgroup\":{\"cpuacct\":{\"total\":{\"ns\":91981842}},\"memory\":{\"mem\":{\"usage\":{\"bytes\":137330688}}}},\"cpu\":{\"system\":{\"ticks\":3350,\"time\":{\"ms\":30}},\"total\":{\"ticks\":7660,\"time\":{\"ms\":100},\"value\":7660},\"user\":{\"ticks\":4310,\"time\":{\"ms\":70}}},\"handles\":{\"limit\":{\"hard\":1048576,\"soft\":1048576},\"open\":13},\"info\":{\"ephemeral_id\":\"2e690d49-2e4c-4c6e-8e85-5ec617dcb8a0\",\"uptime\":{\"ms\":3390100},\"version\":\"8.14.3\"},\"memstats\":{\"gc_next\":37366720,\"memory_alloc\":19404112,\"memory_total\":247633400,\"rss\":108298240},\"runtime\":{\"goroutines\":71}},\"filebeat\":{\"events\":{\"active\":0,\"added\":1,\"done\":1},\"harvester\":{\"open_files\":1,\"running\":1}},\"libbeat\":{\"config\":{\"module\":{\"running\":5}},\"output\":{\"events\":{\"acked\":1,\"active\":0,\"batches\":1,\"total\":1},\"read\":{\"bytes\":229,\"errors\":1},\"write\":{\"bytes\":2414,\"latency\":{\"histogram\":{\"count\":116,\"max\":1095,\"mean\":34.5948275862069,\"median\":17.5,\"min\":6,\"p75\":26,\"p95\":81.89999999999995,\"p99\":961.8899999999986,\"p999\":1095,\"stddev\":104.23026385978592}}}},\"pipeline\":{\"clients\":5,\"events\":{\"active\":0,\"published\":1,\"total\":1},\"queue\":{\"acked\":1}}},\"registrar\":{\"states\":{\"current\":5,\"update\":1},\"writes\":{\"success\":1,\"total\":1}},\"system\":{\"load\":{\"1\":1.58,\"15\":1.58,\"5\":1.46,\"norm\":{\"1\":0.1975,\"15\":0.1975,\"5\":0.1825}}}},\"ecs.version\":\"1.6.0\"}}   \n",
       "xuY9-ZABpqGO4l8hdm5q     {\"log.level\":\"info\",\"@timestamp\":\"2024-07-28T12:07:34.676Z\",\"log.logger\":\"monitoring\",\"log.origin\":{\"function\":\"github.com/elastic/beats/v7/libbeat/monitoring/report/log.(*reporter).logSnapshot\",\"file.name\":\"log/log.go\",\"file.line\":187},\"message\":\"Non-zero metrics in the last 30s\",\"service.name\":\"filebeat\",\"monitoring\":{\"metrics\":{\"beat\":{\"cgroup\":{\"cpuacct\":{\"total\":{\"ns\":73250484}},\"memory\":{\"mem\":{\"usage\":{\"bytes\":137457664}}}},\"cpu\":{\"system\":{\"ticks\":3320,\"time\":{\"ms\":30}},\"total\":{\"ticks\":7560,\"time\":{\"ms\":60},\"value\":7560},\"user\":{\"ticks\":4240,\"time\":{\"ms\":30}}},\"handles\":{\"limit\":{\"hard\":1048576,\"soft\":1048576},\"open\":13},\"info\":{\"ephemeral_id\":\"2e690d49-2e4c-4c6e-8e85-5ec617dcb8a0\",\"uptime\":{\"ms\":3360102},\"version\":\"8.14.3\"},\"memstats\":{\"gc_next\":37314304,\"memory_alloc\":24210608,\"memory_total\":245814712,\"rss\":108298240},\"runtime\":{\"goroutines\":71}},\"filebeat\":{\"events\":{\"active\":0,\"added\":1,\"done\":1},\"harvester\":{\"open_files\":1,\"running\":1}},\"libbeat\":{\"config\":{\"module\":{\"running\":5}},\"output\":{\"events\":{\"acked\":1,\"active\":0,\"batches\":1,\"total\":1},\"read\":{\"bytes\":229,\"errors\":1},\"write\":{\"bytes\":2406,\"latency\":{\"histogram\":{\"count\":115,\"max\":1095,\"mean\":34.73913043478261,\"median\":17,\"min\":6,\"p75\":26,\"p95\":82.19999999999993,\"p99\":969.7200000000026,\"p999\":1095,\"stddev\":104.6709200890454}}}},\"pipeline\":{\"clients\":5,\"events\":{\"active\":0,\"published\":1,\"total\":1},\"queue\":{\"acked\":1}}},\"registrar\":{\"states\":{\"current\":5,\"update\":1},\"writes\":{\"success\":1,\"total\":1}},\"system\":{\"load\":{\"1\":0.67,\"15\":1.53,\"5\":1.29,\"norm\":{\"1\":0.0838,\"15\":0.1913,\"5\":0.1613}}}},\"ecs.version\":\"1.6.0\"}}   \n",
       "weY8-ZABpqGO4l8h7W6t               {\"log.level\":\"info\",\"@timestamp\":\"2024-07-28T12:07:04.674Z\",\"log.logger\":\"monitoring\",\"log.origin\":{\"function\":\"github.com/elastic/beats/v7/libbeat/monitoring/report/log.(*reporter).logSnapshot\",\"file.name\":\"log/log.go\",\"file.line\":187},\"message\":\"Non-zero metrics in the last 30s\",\"service.name\":\"filebeat\",\"monitoring\":{\"metrics\":{\"beat\":{\"cgroup\":{\"cpuacct\":{\"total\":{\"ns\":75748460}},\"memory\":{\"mem\":{\"usage\":{\"bytes\":137453568}}}},\"cpu\":{\"system\":{\"ticks\":3290,\"time\":{\"ms\":30}},\"total\":{\"ticks\":7500,\"time\":{\"ms\":80},\"value\":7500},\"user\":{\"ticks\":4210,\"time\":{\"ms\":50}}},\"handles\":{\"limit\":{\"hard\":1048576,\"soft\":1048576},\"open\":13},\"info\":{\"ephemeral_id\":\"2e690d49-2e4c-4c6e-8e85-5ec617dcb8a0\",\"uptime\":{\"ms\":3330099},\"version\":\"8.14.3\"},\"memstats\":{\"gc_next\":37314304,\"memory_alloc\":22656752,\"memory_total\":244260856,\"rss\":108298240},\"runtime\":{\"goroutines\":71}},\"filebeat\":{\"events\":{\"active\":0,\"added\":1,\"done\":1},\"harvester\":{\"open_files\":1,\"running\":1}},\"libbeat\":{\"config\":{\"module\":{\"running\":5}},\"output\":{\"events\":{\"acked\":1,\"active\":0,\"batches\":1,\"total\":1},\"read\":{\"bytes\":229,\"errors\":1},\"write\":{\"bytes\":2419,\"latency\":{\"histogram\":{\"count\":114,\"max\":1095,\"mean\":34.8859649122807,\"median\":17,\"min\":6,\"p75\":26.25,\"p95\":82.5,\"p99\":977.5499999999955,\"p999\":1095,\"stddev\":105.11720766304612}}}},\"pipeline\":{\"clients\":5,\"events\":{\"active\":0,\"published\":1,\"total\":1},\"queue\":{\"acked\":1}}},\"registrar\":{\"states\":{\"current\":5,\"update\":1},\"writes\":{\"success\":1,\"total\":1}},\"system\":{\"load\":{\"1\":0.99,\"15\":1.57,\"5\":1.41,\"norm\":{\"1\":0.1238,\"15\":0.1963,\"5\":0.1763}}}},\"ecs.version\":\"1.6.0\"}}   \n",
       "veY8-ZABpqGO4l8hi27-  {\"log.level\":\"info\",\"@timestamp\":\"2024-07-28T12:06:34.675Z\",\"log.logger\":\"monitoring\",\"log.origin\":{\"function\":\"github.com/elastic/beats/v7/libbeat/monitoring/report/log.(*reporter).logSnapshot\",\"file.name\":\"log/log.go\",\"file.line\":187},\"message\":\"Non-zero metrics in the last 30s\",\"service.name\":\"filebeat\",\"monitoring\":{\"metrics\":{\"beat\":{\"cgroup\":{\"cpuacct\":{\"total\":{\"ns\":59363587}},\"memory\":{\"mem\":{\"usage\":{\"bytes\":137318400}}}},\"cpu\":{\"system\":{\"ticks\":3260,\"time\":{\"ms\":20}},\"total\":{\"ticks\":7420,\"time\":{\"ms\":60},\"value\":7420},\"user\":{\"ticks\":4160,\"time\":{\"ms\":40}}},\"handles\":{\"limit\":{\"hard\":1048576,\"soft\":1048576},\"open\":13},\"info\":{\"ephemeral_id\":\"2e690d49-2e4c-4c6e-8e85-5ec617dcb8a0\",\"uptime\":{\"ms\":3300100},\"version\":\"8.14.3\"},\"memstats\":{\"gc_next\":37314304,\"memory_alloc\":20896648,\"memory_total\":242500752,\"rss\":108298240},\"runtime\":{\"goroutines\":71}},\"filebeat\":{\"events\":{\"active\":0,\"added\":1,\"done\":1},\"harvester\":{\"open_files\":1,\"running\":1}},\"libbeat\":{\"config\":{\"module\":{\"running\":5}},\"output\":{\"events\":{\"acked\":1,\"active\":0,\"batches\":1,\"total\":1},\"read\":{\"bytes\":229,\"errors\":1},\"write\":{\"bytes\":2414,\"latency\":{\"histogram\":{\"count\":113,\"max\":1095,\"mean\":35.05309734513274,\"median\":17,\"min\":6,\"p75\":26.5,\"p95\":82.79999999999998,\"p99\":985.3799999999995,\"p999\":1095,\"stddev\":105.56622219804738}}}},\"pipeline\":{\"clients\":5,\"events\":{\"active\":0,\"published\":1,\"total\":1},\"queue\":{\"acked\":1}}},\"registrar\":{\"states\":{\"current\":5,\"update\":1},\"writes\":{\"success\":1,\"total\":1}},\"system\":{\"load\":{\"1\":1.35,\"15\":1.61,\"5\":1.51,\"norm\":{\"1\":0.1688,\"15\":0.2013,\"5\":0.1888}}}},\"ecs.version\":\"1.6.0\"}}   \n",
       "...                                                                                                                                                                                                                                                                                                                                                                                                                                                                                                                                                                                                                                                                                                                                                                                                                                                                                                                                                                                                                                                                                                                                                                                                                                                                                                                                                                                                                                                                                                                                                                                                                                                                                           ...   \n",
       "qdsv9ZAB_ETXQiYU63up                  {\"log.level\":\"info\",\"@timestamp\":\"2024-07-27T17:14:21.775Z\",\"log.logger\":\"monitoring\",\"log.origin\":{\"function\":\"github.com/elastic/beats/v7/libbeat/monitoring/report/log.(*reporter).logSnapshot\",\"file.name\":\"log/log.go\",\"file.line\":187},\"message\":\"Non-zero metrics in the last 30s\",\"service.name\":\"filebeat\",\"monitoring\":{\"metrics\":{\"beat\":{\"cgroup\":{\"cpuacct\":{\"total\":{\"ns\":71837302}},\"memory\":{\"mem\":{\"usage\":{\"bytes\":45056000}}}},\"cpu\":{\"system\":{\"ticks\":8110,\"time\":{\"ms\":10}},\"total\":{\"ticks\":18820,\"time\":{\"ms\":80},\"value\":18820},\"user\":{\"ticks\":10710,\"time\":{\"ms\":70}}},\"handles\":{\"limit\":{\"hard\":1048576,\"soft\":1048576},\"open\":15},\"info\":{\"ephemeral_id\":\"d8cc4c64-15f6-4bb8-aa2a-9e43729a827f\",\"uptime\":{\"ms\":6750087},\"version\":\"8.14.3\"},\"memstats\":{\"gc_next\":38175712,\"memory_alloc\":23498432,\"memory_total\":548623472,\"rss\":113803264},\"runtime\":{\"goroutines\":79}},\"filebeat\":{\"events\":{\"active\":0,\"added\":1,\"done\":2},\"harvester\":{\"open_files\":2,\"running\":2}},\"libbeat\":{\"config\":{\"module\":{\"running\":5}},\"output\":{\"events\":{\"acked\":2,\"active\":0,\"batches\":1,\"total\":2},\"read\":{\"bytes\":232,\"errors\":1},\"write\":{\"bytes\":2819,\"latency\":{\"histogram\":{\"count\":245,\"max\":2728,\"mean\":34.72244897959184,\"median\":16,\"min\":6,\"p75\":18,\"p95\":59,\"p99\":480.5199999999945,\"p999\":2728,\"stddev\":180.14603063400014}}}},\"pipeline\":{\"clients\":5,\"events\":{\"active\":0,\"published\":1,\"total\":1},\"queue\":{\"acked\":2}}},\"registrar\":{\"states\":{\"current\":5,\"update\":2},\"writes\":{\"success\":1,\"total\":1}},\"system\":{\"load\":{\"1\":0.75,\"15\":0.92,\"5\":1.02,\"norm\":{\"1\":0.0938,\"15\":0.115,\"5\":0.1275}}}},\"ecs.version\":\"1.6.0\"}}   \n",
       "rdsw9ZAB_ETXQiYUTXtX                   {\"log.level\":\"info\",\"@timestamp\":\"2024-07-27T17:14:51.771Z\",\"log.logger\":\"monitoring\",\"log.origin\":{\"function\":\"github.com/elastic/beats/v7/libbeat/monitoring/report/log.(*reporter).logSnapshot\",\"file.name\":\"log/log.go\",\"file.line\":187},\"message\":\"Non-zero metrics in the last 30s\",\"service.name\":\"filebeat\",\"monitoring\":{\"metrics\":{\"beat\":{\"cgroup\":{\"cpuacct\":{\"total\":{\"ns\":67493891}},\"memory\":{\"mem\":{\"usage\":{\"bytes\":44929024}}}},\"cpu\":{\"system\":{\"ticks\":8130,\"time\":{\"ms\":20}},\"total\":{\"ticks\":18880,\"time\":{\"ms\":60},\"value\":18880},\"user\":{\"ticks\":10750,\"time\":{\"ms\":40}}},\"handles\":{\"limit\":{\"hard\":1048576,\"soft\":1048576},\"open\":15},\"info\":{\"ephemeral_id\":\"d8cc4c64-15f6-4bb8-aa2a-9e43729a827f\",\"uptime\":{\"ms\":6780091},\"version\":\"8.14.3\"},\"memstats\":{\"gc_next\":38175712,\"memory_alloc\":25112928,\"memory_total\":550237968,\"rss\":113803264},\"runtime\":{\"goroutines\":79}},\"filebeat\":{\"events\":{\"active\":0,\"added\":1,\"done\":1},\"harvester\":{\"open_files\":2,\"running\":2}},\"libbeat\":{\"config\":{\"module\":{\"running\":5}},\"output\":{\"events\":{\"acked\":1,\"active\":0,\"batches\":1,\"total\":1},\"read\":{\"bytes\":229,\"errors\":1},\"write\":{\"bytes\":2365,\"latency\":{\"histogram\":{\"count\":246,\"max\":2728,\"mean\":34.63414634146341,\"median\":16,\"min\":6,\"p75\":18,\"p95\":59,\"p99\":473.6400000000008,\"p999\":2728,\"stddev\":179.78482026649243}}}},\"pipeline\":{\"clients\":5,\"events\":{\"active\":0,\"published\":1,\"total\":1},\"queue\":{\"acked\":1}}},\"registrar\":{\"states\":{\"current\":5,\"update\":1},\"writes\":{\"success\":1,\"total\":1}},\"system\":{\"load\":{\"1\":0.64,\"15\":0.91,\"5\":0.97,\"norm\":{\"1\":0.08,\"15\":0.1138,\"5\":0.1213}}}},\"ecs.version\":\"1.6.0\"}}   \n",
       "stsw9ZAB_ETXQiYU1nsV               {\"log.level\":\"info\",\"@timestamp\":\"2024-07-27T17:15:21.771Z\",\"log.logger\":\"monitoring\",\"log.origin\":{\"function\":\"github.com/elastic/beats/v7/libbeat/monitoring/report/log.(*reporter).logSnapshot\",\"file.name\":\"log/log.go\",\"file.line\":187},\"message\":\"Non-zero metrics in the last 30s\",\"service.name\":\"filebeat\",\"monitoring\":{\"metrics\":{\"beat\":{\"cgroup\":{\"cpuacct\":{\"total\":{\"ns\":84127207}},\"memory\":{\"mem\":{\"usage\":{\"bytes\":44933120}}}},\"cpu\":{\"system\":{\"ticks\":8180,\"time\":{\"ms\":50}},\"total\":{\"ticks\":18960,\"time\":{\"ms\":80},\"value\":18960},\"user\":{\"ticks\":10780,\"time\":{\"ms\":30}}},\"handles\":{\"limit\":{\"hard\":1048576,\"soft\":1048576},\"open\":15},\"info\":{\"ephemeral_id\":\"d8cc4c64-15f6-4bb8-aa2a-9e43729a827f\",\"uptime\":{\"ms\":6810088},\"version\":\"8.14.3\"},\"memstats\":{\"gc_next\":38238080,\"memory_alloc\":19609872,\"memory_total\":551797208,\"rss\":113803264},\"runtime\":{\"goroutines\":79}},\"filebeat\":{\"events\":{\"active\":0,\"added\":1,\"done\":1},\"harvester\":{\"open_files\":2,\"running\":2}},\"libbeat\":{\"config\":{\"module\":{\"running\":5}},\"output\":{\"events\":{\"acked\":1,\"active\":0,\"batches\":1,\"total\":1},\"read\":{\"bytes\":229,\"errors\":1},\"write\":{\"bytes\":2351,\"latency\":{\"histogram\":{\"count\":247,\"max\":2728,\"mean\":34.550607287449395,\"median\":16,\"min\":6,\"p75\":18,\"p95\":59,\"p99\":466.76000000000704,\"p999\":2728,\"stddev\":179.42529844562952}}}},\"pipeline\":{\"clients\":5,\"events\":{\"active\":0,\"published\":1,\"total\":1},\"queue\":{\"acked\":1}}},\"registrar\":{\"states\":{\"current\":5,\"update\":1},\"writes\":{\"success\":1,\"total\":1}},\"system\":{\"load\":{\"1\":0.89,\"15\":0.93,\"5\":1.01,\"norm\":{\"1\":0.1113,\"15\":0.1163,\"5\":0.1263}}}},\"ecs.version\":\"1.6.0\"}}   \n",
       "ttsx9ZAB_ETXQiYUN3vB                {\"log.level\":\"info\",\"@timestamp\":\"2024-07-27T17:15:51.773Z\",\"log.logger\":\"monitoring\",\"log.origin\":{\"function\":\"github.com/elastic/beats/v7/libbeat/monitoring/report/log.(*reporter).logSnapshot\",\"file.name\":\"log/log.go\",\"file.line\":187},\"message\":\"Non-zero metrics in the last 30s\",\"service.name\":\"filebeat\",\"monitoring\":{\"metrics\":{\"beat\":{\"cgroup\":{\"cpuacct\":{\"total\":{\"ns\":69306958}},\"memory\":{\"mem\":{\"usage\":{\"bytes\":44933120}}}},\"cpu\":{\"system\":{\"ticks\":8200,\"time\":{\"ms\":20}},\"total\":{\"ticks\":19030,\"time\":{\"ms\":70},\"value\":19030},\"user\":{\"ticks\":10830,\"time\":{\"ms\":50}}},\"handles\":{\"limit\":{\"hard\":1048576,\"soft\":1048576},\"open\":15},\"info\":{\"ephemeral_id\":\"d8cc4c64-15f6-4bb8-aa2a-9e43729a827f\",\"uptime\":{\"ms\":6840089},\"version\":\"8.14.3\"},\"memstats\":{\"gc_next\":38238080,\"memory_alloc\":21149056,\"memory_total\":553336392,\"rss\":113803264},\"runtime\":{\"goroutines\":79}},\"filebeat\":{\"events\":{\"active\":0,\"added\":1,\"done\":1},\"harvester\":{\"open_files\":2,\"running\":2}},\"libbeat\":{\"config\":{\"module\":{\"running\":5}},\"output\":{\"events\":{\"acked\":1,\"active\":0,\"batches\":1,\"total\":1},\"read\":{\"bytes\":229,\"errors\":1},\"write\":{\"bytes\":2378,\"latency\":{\"histogram\":{\"count\":248,\"max\":2728,\"mean\":34.46774193548387,\"median\":16,\"min\":6,\"p75\":18,\"p95\":59,\"p99\":459.87999999999374,\"p999\":2728,\"stddev\":179.06792437525613}}}},\"pipeline\":{\"clients\":5,\"events\":{\"active\":0,\"published\":1,\"total\":1},\"queue\":{\"acked\":1}}},\"registrar\":{\"states\":{\"current\":5,\"update\":1},\"writes\":{\"success\":1,\"total\":1}},\"system\":{\"load\":{\"1\":2.15,\"15\":1.03,\"5\":1.31,\"norm\":{\"1\":0.2688,\"15\":0.1288,\"5\":0.1638}}}},\"ecs.version\":\"1.6.0\"}}   \n",
       "u9sx9ZAB_ETXQiYUwHt8                                {\"log.level\":\"info\",\"@timestamp\":\"2024-07-27T17:16:21.769Z\",\"log.logger\":\"monitoring\",\"log.origin\":{\"function\":\"github.com/elastic/beats/v7/libbeat/monitoring/report/log.(*reporter).logSnapshot\",\"file.name\":\"log/log.go\",\"file.line\":187},\"message\":\"Non-zero metrics in the last 30s\",\"service.name\":\"filebeat\",\"monitoring\":{\"metrics\":{\"beat\":{\"cgroup\":{\"cpuacct\":{\"total\":{\"ns\":62834587}},\"memory\":{\"mem\":{\"usage\":{\"bytes\":45072384}}}},\"cpu\":{\"system\":{\"ticks\":8220,\"time\":{\"ms\":20}},\"total\":{\"ticks\":19090,\"time\":{\"ms\":60},\"value\":19090},\"user\":{\"ticks\":10870,\"time\":{\"ms\":40}}},\"handles\":{\"limit\":{\"hard\":1048576,\"soft\":1048576},\"open\":15},\"info\":{\"ephemeral_id\":\"d8cc4c64-15f6-4bb8-aa2a-9e43729a827f\",\"uptime\":{\"ms\":6870087},\"version\":\"8.14.3\"},\"memstats\":{\"gc_next\":38238080,\"memory_alloc\":23045464,\"memory_total\":555232800,\"rss\":113803264},\"runtime\":{\"goroutines\":79}},\"filebeat\":{\"events\":{\"active\":0,\"added\":1,\"done\":1},\"harvester\":{\"open_files\":2,\"running\":2}},\"libbeat\":{\"config\":{\"module\":{\"running\":5}},\"output\":{\"events\":{\"acked\":1,\"active\":0,\"batches\":1,\"total\":1},\"read\":{\"bytes\":229,\"errors\":1},\"write\":{\"bytes\":2372,\"latency\":{\"histogram\":{\"count\":249,\"max\":2728,\"mean\":34.3855421686747,\"median\":16,\"min\":6,\"p75\":18,\"p95\":59,\"p99\":453,\"p999\":2728,\"stddev\":178.71267676118504}}}},\"pipeline\":{\"clients\":5,\"events\":{\"active\":0,\"published\":1,\"total\":1},\"queue\":{\"acked\":1}}},\"registrar\":{\"states\":{\"current\":5,\"update\":1},\"writes\":{\"success\":1,\"total\":1}},\"system\":{\"load\":{\"1\":1.61,\"15\":1.02,\"5\":1.27,\"norm\":{\"1\":0.2013,\"15\":0.1275,\"5\":0.1588}}}},\"ecs.version\":\"1.6.0\"}}   \n",
       "\n",
       "                             container.name  \n",
       "z-Y--ZABpqGO4l8hYG7Q  docker-elk-filebeat-1  \n",
       "yuY9-ZABpqGO4l8h2G4U  docker-elk-filebeat-1  \n",
       "xuY9-ZABpqGO4l8hdm5q  docker-elk-filebeat-1  \n",
       "weY8-ZABpqGO4l8h7W6t  docker-elk-filebeat-1  \n",
       "veY8-ZABpqGO4l8hi27-  docker-elk-filebeat-1  \n",
       "...                                     ...  \n",
       "qdsv9ZAB_ETXQiYU63up  docker-elk-filebeat-1  \n",
       "rdsw9ZAB_ETXQiYUTXtX  docker-elk-filebeat-1  \n",
       "stsw9ZAB_ETXQiYU1nsV  docker-elk-filebeat-1  \n",
       "ttsx9ZAB_ETXQiYUN3vB  docker-elk-filebeat-1  \n",
       "u9sx9ZAB_ETXQiYUwHt8  docker-elk-filebeat-1  \n",
       "\n",
       "[2043 rows x 4 columns]"
      ]
     },
     "execution_count": 39,
     "metadata": {},
     "output_type": "execute_result"
    }
   ],
   "source": [
    "df[df.stream == 'stderr']"
   ]
  },
  {
   "cell_type": "code",
   "execution_count": 41,
   "metadata": {},
   "outputs": [
    {
     "data": {
      "text/plain": [
       "Timestamp('2024-07-28 12:09:04.670000128')"
      ]
     },
     "execution_count": 41,
     "metadata": {},
     "output_type": "execute_result"
    }
   ],
   "source": [
    "df[\"@timestamp\"].max()"
   ]
  },
  {
   "cell_type": "code",
   "execution_count": 4,
   "metadata": {},
   "outputs": [
    {
     "name": "stderr",
     "output_type": "stream",
     "text": [
      "/tmp/ipykernel_13119/3196675872.py:2: DeprecationWarning: Importing from the 'elasticsearch.client' module is deprecated. Instead use 'elasticsearch' module for importing the client.\n",
      "  from elasticsearch.client import MlClient\n"
     ]
    }
   ],
   "source": [
    "# Ml Client\n",
    "from elasticsearch.client import MlClient\n",
    "\n",
    "ml_client = MlClient(client)"
   ]
  },
  {
   "cell_type": "code",
   "execution_count": 4,
   "metadata": {},
   "outputs": [
    {
     "data": {
      "text/plain": [
       "{'job_id': 'logs-11558ee526445db2b42eb3d6b4af58d0-log-entry-categories-count',\n",
       " 'category_id': 51,\n",
       " 'partition_field_name': 'event.dataset',\n",
       " 'partition_field_value': '',\n",
       " 'terms': 'LOG listening on address port',\n",
       " 'regex': '.*?LOG.+?listening.+?on.+?address.+?port.*',\n",
       " 'max_matching_length': 92,\n",
       " 'examples': ['2024-07-27 17:17:35.324 UTC [1] LOG:  listening on IPv4 address \"0.0.0.0\", port 5432'],\n",
       " 'grok_pattern': '.*?%{TOMCATLEGACY_DATESTAMP:timestamp}.+?%{NUMBER:field}.+?LOG.+?listening.+?on.+?address.+?%{IP:ipaddress}.+?port.+?%{NUMBER:field2}.*',\n",
       " 'num_matches': 2,\n",
       " 'event.dataset': '',\n",
       " 'result_type': 'category_definition',\n",
       " 'mlcategory': '51'}"
      ]
     },
     "execution_count": 4,
     "metadata": {},
     "output_type": "execute_result"
    }
   ],
   "source": [
    "# Retrieve log categories generated by ML\n",
    "out = ml_client.get_categories(job_id = \"logs-11558ee526445db2b42eb3d6b4af58d0-log-entry-categories-count\")\n",
    "out[\"categories\"][50]"
   ]
  },
  {
   "cell_type": "code",
   "execution_count": 5,
   "metadata": {},
   "outputs": [
    {
     "data": {
      "text/plain": [
       "{'job_id': 'logs-11558ee526445db2b42eb3d6b4af58d0-log-entry-categories-count',\n",
       " 'job_type': 'anomaly_detector',\n",
       " 'job_version': '12.0.0',\n",
       " 'create_time': 1722096863867,\n",
       " 'model_snapshot_id': '1722182224',\n",
       " 'custom_settings': {'managed': True,\n",
       "  'created_by': 'ml-module-logs-ui-categories',\n",
       "  'job_revision': 2,\n",
       "  'logs_source_config': {'indexPattern': 'filebeat-*',\n",
       "   'timestampField': '@timestamp',\n",
       "   'bucketSpan': 900000,\n",
       "   'datasetFilter': {'type': 'includeAll'}}},\n",
       " 'datafeed_config': {'datafeed_id': 'datafeed-logs-11558ee526445db2b42eb3d6b4af58d0-log-entry-categories-count',\n",
       "  'job_id': 'logs-11558ee526445db2b42eb3d6b4af58d0-log-entry-categories-count',\n",
       "  'authorization': {'roles': ['superuser']},\n",
       "  'query_delay': '116740ms',\n",
       "  'chunking_config': {'mode': 'auto'},\n",
       "  'indices_options': {'ignore_unavailable': False,\n",
       "   'expand_wildcards': ['open'],\n",
       "   'allow_no_indices': True,\n",
       "   'ignore_throttled': True},\n",
       "  'query': {'bool': {'filter': [{'exists': {'field': 'message'}}]}},\n",
       "  'indices': ['filebeat-*'],\n",
       "  'scroll_size': 1000,\n",
       "  'delayed_data_check_config': {'enabled': True}},\n",
       " 'groups': ['logs-ui'],\n",
       " 'description': 'Logs UI: Detects anomalies in count of log entries by category',\n",
       " 'analysis_config': {'bucket_span': '900000ms',\n",
       "  'categorization_field_name': 'message',\n",
       "  'categorization_analyzer': {'char_filter': ['first_line_with_letters'],\n",
       "   'tokenizer': 'ml_standard',\n",
       "   'filter': [{'type': 'stop',\n",
       "     'stopwords': ['Monday',\n",
       "      'Tuesday',\n",
       "      'Wednesday',\n",
       "      'Thursday',\n",
       "      'Friday',\n",
       "      'Saturday',\n",
       "      'Sunday',\n",
       "      'Mon',\n",
       "      'Tue',\n",
       "      'Wed',\n",
       "      'Thu',\n",
       "      'Fri',\n",
       "      'Sat',\n",
       "      'Sun',\n",
       "      'January',\n",
       "      'February',\n",
       "      'March',\n",
       "      'April',\n",
       "      'May',\n",
       "      'June',\n",
       "      'July',\n",
       "      'August',\n",
       "      'September',\n",
       "      'October',\n",
       "      'November',\n",
       "      'December',\n",
       "      'Jan',\n",
       "      'Feb',\n",
       "      'Mar',\n",
       "      'Apr',\n",
       "      'May',\n",
       "      'Jun',\n",
       "      'Jul',\n",
       "      'Aug',\n",
       "      'Sep',\n",
       "      'Oct',\n",
       "      'Nov',\n",
       "      'Dec',\n",
       "      'GMT',\n",
       "      'UTC']},\n",
       "    {'type': 'limit', 'max_token_count': '100'}]},\n",
       "  'per_partition_categorization': {'enabled': True, 'stop_on_warn': True},\n",
       "  'detectors': [{'detector_description': 'count by learned log entry category',\n",
       "    'function': 'count',\n",
       "    'by_field_name': 'mlcategory',\n",
       "    'partition_field_name': 'event.dataset',\n",
       "    'use_null': True,\n",
       "    'detector_index': 0}],\n",
       "  'influencers': ['event.dataset', 'mlcategory'],\n",
       "  'model_prune_window': '30d'},\n",
       " 'analysis_limits': {'model_memory_limit': '41mb',\n",
       "  'categorization_examples_limit': 1},\n",
       " 'data_description': {'time_field': '@timestamp', 'time_format': 'epoch_ms'},\n",
       " 'model_plot_config': {'enabled': True, 'annotations_enabled': True},\n",
       " 'model_snapshot_retention_days': 10,\n",
       " 'daily_model_snapshot_retention_after_days': 1,\n",
       " 'results_index_name': 'custom-logs-11558ee526445db2b42eb3d6b4af58d0-log-entry-categories-count',\n",
       " 'allow_lazy_open': False}"
      ]
     },
     "execution_count": 5,
     "metadata": {},
     "output_type": "execute_result"
    }
   ],
   "source": [
    "# Retrieve jobs\n",
    "ml_client.get_jobs()[\"jobs\"][0]"
   ]
  },
  {
   "cell_type": "code",
   "execution_count": 6,
   "metadata": {},
   "outputs": [
    {
     "data": {
      "text/plain": [
       "{'job_id': 'logs-11558ee526445db2b42eb3d6b4af58d0-log-entry-rate',\n",
       " 'job_type': 'anomaly_detector',\n",
       " 'job_version': '12.0.0',\n",
       " 'create_time': 1722095915735,\n",
       " 'model_snapshot_id': '1722182222',\n",
       " 'custom_settings': {'managed': True,\n",
       "  'created_by': 'ml-module-logs-ui-analysis',\n",
       "  'job_revision': 2,\n",
       "  'logs_source_config': {'indexPattern': 'filebeat-*',\n",
       "   'timestampField': '@timestamp',\n",
       "   'bucketSpan': 900000}},\n",
       " 'datafeed_config': {'datafeed_id': 'datafeed-logs-11558ee526445db2b42eb3d6b4af58d0-log-entry-rate',\n",
       "  'job_id': 'logs-11558ee526445db2b42eb3d6b4af58d0-log-entry-rate',\n",
       "  'authorization': {'roles': ['superuser']},\n",
       "  'query_delay': '83799ms',\n",
       "  'chunking_config': {'mode': 'auto'},\n",
       "  'indices_options': {'ignore_unavailable': False,\n",
       "   'expand_wildcards': ['open'],\n",
       "   'allow_no_indices': True,\n",
       "   'ignore_throttled': True},\n",
       "  'query': {'match_all': {}},\n",
       "  'indices': ['filebeat-*'],\n",
       "  'scroll_size': 1000,\n",
       "  'delayed_data_check_config': {'enabled': True}},\n",
       " 'groups': ['logs-ui'],\n",
       " 'description': 'Logs UI (default/default): Detects anomalies in the log entry ingestion rate',\n",
       " 'analysis_config': {'bucket_span': '900000ms',\n",
       "  'detectors': [{'detector_description': 'count',\n",
       "    'function': 'count',\n",
       "    'partition_field_name': 'event.dataset',\n",
       "    'use_null': True,\n",
       "    'detector_index': 0}],\n",
       "  'influencers': ['event.dataset'],\n",
       "  'model_prune_window': '30d'},\n",
       " 'analysis_limits': {'model_memory_limit': '11mb',\n",
       "  'categorization_examples_limit': 4},\n",
       " 'data_description': {'time_field': '@timestamp', 'time_format': 'epoch_ms'},\n",
       " 'model_plot_config': {'enabled': True, 'annotations_enabled': True},\n",
       " 'model_snapshot_retention_days': 10,\n",
       " 'daily_model_snapshot_retention_after_days': 1,\n",
       " 'results_index_name': 'custom-logs-11558ee526445db2b42eb3d6b4af58d0-log-entry-rate',\n",
       " 'allow_lazy_open': False}"
      ]
     },
     "execution_count": 6,
     "metadata": {},
     "output_type": "execute_result"
    }
   ],
   "source": [
    "ml_client.get_jobs()[\"jobs\"][1]"
   ]
  },
  {
   "cell_type": "code",
   "execution_count": 8,
   "metadata": {},
   "outputs": [
    {
     "data": {
      "text/plain": [
       "ObjectApiResponse({'job_id': 'test-job-log-entry-rate', 'job_type': 'anomaly_detector', 'job_version': '12.0.0', 'create_time': 1722187419772, 'datafeed_config': {'datafeed_id': 'datafeed-test-job-log-entry-rate', 'job_id': 'test-job-log-entry-rate', 'authorization': {'roles': ['superuser']}, 'query_delay': '61688ms', 'chunking_config': {'mode': 'auto'}, 'indices_options': {'ignore_unavailable': False, 'expand_wildcards': ['open'], 'allow_no_indices': True, 'ignore_throttled': True}, 'query': {'match_all': {}}, 'indices': ['filebeat-*'], 'scroll_size': 1000, 'delayed_data_check_config': {'enabled': True}}, 'groups': ['logs-ui'], 'description': 'Detects anomalies in the log entry ingestion rate', 'analysis_config': {'bucket_span': '900000ms', 'detectors': [{'detector_description': 'count', 'function': 'count', 'partition_field_name': 'event.dataset', 'use_null': True, 'detector_index': 0}], 'influencers': ['event.dataset'], 'model_prune_window': '30d'}, 'analysis_limits': {'model_memory_limit': '11mb', 'categorization_examples_limit': 4}, 'data_description': {'time_field': '@timestamp', 'time_format': 'epoch_ms'}, 'model_snapshot_retention_days': 10, 'daily_model_snapshot_retention_after_days': 1, 'results_index_name': 'shared', 'allow_lazy_open': False})"
      ]
     },
     "execution_count": 8,
     "metadata": {},
     "output_type": "execute_result"
    }
   ],
   "source": [
    "# Create a job\n",
    "ml_client.put_job(\n",
    "    job_id = \"test-job-log-entry-rate\",\n",
    "    analysis_config = {\n",
    "    \"bucket_span\": \"900000ms\",\n",
    "    \"detectors\": [\n",
    "      {\n",
    "        \"detector_description\": \"count\",\n",
    "        \"function\": \"count\",\n",
    "        \"partition_field_name\": \"event.dataset\",\n",
    "        \"use_null\": True,\n",
    "        \"detector_index\": 0\n",
    "      }\n",
    "    ],\n",
    "    \"influencers\": [\n",
    "      \"event.dataset\"\n",
    "    ],\n",
    "    \"model_prune_window\": \"30d\"\n",
    "  },\n",
    "  data_description = {\n",
    "    \"time_field\": \"@timestamp\",\n",
    "    \"time_format\": \"epoch_ms\"\n",
    "  },\n",
    "  analysis_limits = {\n",
    "    \"model_memory_limit\": \"11mb\",\n",
    "    \"categorization_examples_limit\": 4\n",
    "  },\n",
    "  description = \"Detects anomalies in the log entry ingestion rate\",\n",
    "  datafeed_config = {\n",
    "      \"indices\": [\"filebeat-*\"],   \n",
    "      \"datafeed_id\": \"datafeed-test-job-log-entry-rate\"\n",
    "  },\n",
    "  groups = [\"logs-ui\"]\n",
    ")"
   ]
  },
  {
   "cell_type": "code",
   "execution_count": 9,
   "metadata": {},
   "outputs": [
    {
     "data": {
      "text/plain": [
       "{'savedObjectsCreated': {},\n",
       " 'savedObjectsDeleted': {},\n",
       " 'datafeedsAdded': {},\n",
       " 'datafeedsRemoved': {}}"
      ]
     },
     "execution_count": 9,
     "metadata": {},
     "output_type": "execute_result"
    }
   ],
   "source": [
    "# Make a get request to endpoint to sync saved objects with Kibana UI, ?simulate=true is added to show what the endpoint will do before doing it\n",
    "# This step might not be required\n",
    "\n",
    "import requests\n",
    "\n",
    "session = requests.Session()\n",
    "session.auth = (\"elastic\", \"changeme\")\n",
    "\n",
    "# response = session.get(\"http://localhost:5601/api/ml/saved_objects/sync?simulate=true\")\n",
    "response = session.get(\"http://localhost:5601/api/ml/saved_objects/sync\")\n",
    "response.json()"
   ]
  },
  {
   "cell_type": "code",
   "execution_count": 10,
   "metadata": {},
   "outputs": [
    {
     "data": {
      "text/plain": [
       "ObjectApiResponse({'opened': True, 'node': '3SkrpVMbT3-LPcxr0iYypA'})"
      ]
     },
     "execution_count": 10,
     "metadata": {},
     "output_type": "execute_result"
    }
   ],
   "source": [
    "# Open job. Before you can start a datafeed, the anomaly detection job must be open. Otherwise, an error occurs.\n",
    "ml_client.open_job(job_id = \"test-job-log-entry-rate\")"
   ]
  },
  {
   "cell_type": "code",
   "execution_count": 11,
   "metadata": {},
   "outputs": [
    {
     "data": {
      "text/plain": [
       "ObjectApiResponse({'started': True, 'node': '3SkrpVMbT3-LPcxr0iYypA'})"
      ]
     },
     "execution_count": 11,
     "metadata": {},
     "output_type": "execute_result"
    }
   ],
   "source": [
    "# Start datafeed\n",
    "ml_client.start_datafeed(datafeed_id = \"datafeed-test-job-log-entry-rate\")"
   ]
  },
  {
   "cell_type": "code",
   "execution_count": 12,
   "metadata": {},
   "outputs": [
    {
     "data": {
      "text/plain": [
       "ObjectApiResponse({'stopped': True})"
      ]
     },
     "execution_count": 12,
     "metadata": {},
     "output_type": "execute_result"
    }
   ],
   "source": [
    "# Stop datafeed\n",
    "ml_client.stop_datafeed(datafeed_id = \"datafeed-test-job-log-entry-rate\")"
   ]
  },
  {
   "cell_type": "code",
   "execution_count": 13,
   "metadata": {},
   "outputs": [
    {
     "data": {
      "text/plain": [
       "ObjectApiResponse({'closed': True})"
      ]
     },
     "execution_count": 13,
     "metadata": {},
     "output_type": "execute_result"
    }
   ],
   "source": [
    "# Close job\n",
    "ml_client.close_job(job_id = \"test-job-log-entry-rate\")"
   ]
  },
  {
   "cell_type": "code",
   "execution_count": 14,
   "metadata": {},
   "outputs": [
    {
     "data": {
      "text/plain": [
       "ObjectApiResponse({'acknowledged': True})"
      ]
     },
     "execution_count": 14,
     "metadata": {},
     "output_type": "execute_result"
    }
   ],
   "source": [
    "# Delete a job\n",
    "ml_client.delete_job(job_id = \"test-job-log-entry-rate\")"
   ]
  },
  {
   "cell_type": "code",
   "execution_count": 13,
   "metadata": {},
   "outputs": [
    {
     "data": {
      "text/plain": [
       "[{'model_id': 'lang_ident_model_1',\n",
       "  'model_type': 'lang_ident',\n",
       "  'created_by': '_xpack',\n",
       "  'version': '7.6.0',\n",
       "  'create_time': 1575548914594,\n",
       "  'model_size_bytes': 1053992,\n",
       "  'estimated_operations': 39629,\n",
       "  'license_level': 'basic',\n",
       "  'description': 'Model used for identifying language from arbitrary input text.',\n",
       "  'tags': ['lang_ident', 'prepackaged'],\n",
       "  'input': {'field_names': ['text']},\n",
       "  'inference_config': {'classification': {'num_top_classes': 0,\n",
       "    'top_classes_results_field': 'top_classes',\n",
       "    'results_field': 'predicted_value',\n",
       "    'num_top_feature_importance_values': 0,\n",
       "    'prediction_field_type': 'string'}}}]"
      ]
     },
     "execution_count": 13,
     "metadata": {},
     "output_type": "execute_result"
    }
   ],
   "source": [
    "# Retrieve trained models\n",
    "ml_client.get_trained_models()[\"trained_model_configs\"]"
   ]
  },
  {
   "cell_type": "code",
   "execution_count": 14,
   "metadata": {},
   "outputs": [
    {
     "data": {
      "text/plain": [
       "ObjectApiResponse({'model_id': '.elser_model_2_linux-x86_64', 'model_type': 'pytorch', 'model_package': {'packaged_model_id': 'elser_model_2_linux-x86_64', 'model_repository': 'https://ml-models.elastic.co', 'minimum_version': '11.0.0', 'size': 274756282, 'sha256': 'be69211494bf9cdc57a7aa0ee06814fcccf999407237816c9d9f0963858e2a61', 'metadata': {}, 'tags': [], 'vocabulary_file': 'elser_model_2_linux-x86_64.vocab.json', 'platform_architecture': 'linux-x86_64'}, 'platform_architecture': 'linux-x86_64', 'created_by': 'api_user', 'version': '12.0.0', 'create_time': 1722265934143, 'model_size_bytes': 0, 'estimated_operations': 0, 'license_level': 'platinum', 'description': 'Elastic Learned Sparse EncodeR v2 optimized for linux-x86_64', 'tags': ['elastic'], 'metadata': {}, 'input': {'field_names': ['text_field']}, 'inference_config': {'text_expansion': {'vocabulary': {'index': '.ml-inference-native-000002'}, 'tokenization': {'bert': {'do_lower_case': True, 'with_special_tokens': True, 'max_sequence_length': 512, 'truncate': 'first', 'span': -1}}}}, 'location': {'index': {'name': '.ml-inference-native-000002'}}})"
      ]
     },
     "execution_count": 14,
     "metadata": {},
     "output_type": "execute_result"
    }
   ],
   "source": [
    "# Create trained model, use existing trained model for demo\n",
    "ml_client.put_trained_model(\n",
    "    model_id = \".elser_model_2_linux-x86_64\",\n",
    "    input = {'field_names': ['text_field']},\n",
    ")"
   ]
  },
  {
   "cell_type": "code",
   "execution_count": 16,
   "metadata": {},
   "outputs": [
    {
     "data": {
      "text/plain": [
       "ObjectApiResponse({'assignment': {'task_parameters': {'model_id': '.elser_model_2_linux-x86_64', 'deployment_id': '.elser_model_2_linux-x86_64', 'model_bytes': 274756282, 'threads_per_allocation': 1, 'number_of_allocations': 1, 'queue_capacity': 1024, 'cache_size': '274756282b', 'priority': 'normal', 'per_deployment_memory_bytes': 0, 'per_allocation_memory_bytes': 0}, 'routing_table': {'3SkrpVMbT3-LPcxr0iYypA': {'current_allocations': 1, 'target_allocations': 1, 'routing_state': 'started', 'reason': ''}}, 'assignment_state': 'started', 'start_time': '2024-07-29T15:13:56.409373677Z', 'max_assigned_allocations': 1}})"
      ]
     },
     "execution_count": 16,
     "metadata": {},
     "output_type": "execute_result"
    }
   ],
   "source": [
    "# Deploy trained model\n",
    "ml_client.start_trained_model_deployment(model_id = \".elser_model_2_linux-x86_64\")"
   ]
  },
  {
   "cell_type": "code",
   "execution_count": 21,
   "metadata": {},
   "outputs": [
    {
     "data": {
      "text/plain": [
       "ObjectApiResponse({'inference_results': [{'predicted_value': {'bye': 2.4914753, 'goodbye': 1.7867528, '!': 1.4393035, 'welcome': 0.9759852, 'knockout': 0.8077862, 'late': 0.64506036, 'farewell': 0.5744644, 'halle': 0.5654327, 'cancel': 0.47390866, 'exit': 0.40180466, 'distraction': 0.3832247, 'apology': 0.3733448, 'crush': 0.34912214, 'vote': 0.3364368, 'doubt': 0.32602018, 'message': 0.32279435, 'rude': 0.31470814, 'ty': 0.3088524, 'anger': 0.29807547, 'congratulations': 0.27550116, 'thanks': 0.27489352, 'veto': 0.21770735, 'fear': 0.2159868, 'kiss': 0.21583475, 'practice': 0.1746056, 'interview': 0.17304495, 'deal': 0.16786732, 'sorry': 0.16582713, 'question': 0.16121708, 'contestant': 0.15988849, 'patience': 0.15421624, 'jenny': 0.15182613, 'delay': 0.14731267, 'talk': 0.13661774, 'moment': 0.11442173, 'victory': 0.08496171, 'grammar': 0.07447767, 'word': 0.071585, 'proposal': 0.057338476, 'applause': 0.04004838, 'comeback': 0.035725642, 'sympathy': 0.028779443, 'formal': 0.0284969, 'confidence': 0.011971648, 'silence': 0.011805196}}]})"
      ]
     },
     "execution_count": 21,
     "metadata": {},
     "output_type": "execute_result"
    }
   ],
   "source": [
    "# Infer trained model\n",
    "ml_client.infer_trained_model(model_id = \".elser_model_2_linux-x86_64\", docs = [{\"text_field\": \"bye!\"}])"
   ]
  },
  {
   "cell_type": "code",
   "execution_count": 22,
   "metadata": {},
   "outputs": [
    {
     "data": {
      "text/plain": [
       "ObjectApiResponse({'stopped': True})"
      ]
     },
     "execution_count": 22,
     "metadata": {},
     "output_type": "execute_result"
    }
   ],
   "source": [
    "# Stop deployed model\n",
    "ml_client.stop_trained_model_deployment(model_id = \".elser_model_2_linux-x86_64\")"
   ]
  },
  {
   "cell_type": "code",
   "execution_count": 23,
   "metadata": {},
   "outputs": [
    {
     "data": {
      "text/plain": [
       "ObjectApiResponse({'acknowledged': True})"
      ]
     },
     "execution_count": 23,
     "metadata": {},
     "output_type": "execute_result"
    }
   ],
   "source": [
    "# Delete trained models\n",
    "ml_client.delete_trained_model(model_id = \".elser_model_2_linux-x86_64\")"
   ]
  }
 ],
 "metadata": {
  "kernelspec": {
   "display_name": "elastic",
   "language": "python",
   "name": "python3"
  },
  "language_info": {
   "codemirror_mode": {
    "name": "ipython",
    "version": 3
   },
   "file_extension": ".py",
   "mimetype": "text/x-python",
   "name": "python",
   "nbconvert_exporter": "python",
   "pygments_lexer": "ipython3",
   "version": "3.9.19"
  }
 },
 "nbformat": 4,
 "nbformat_minor": 2
}
